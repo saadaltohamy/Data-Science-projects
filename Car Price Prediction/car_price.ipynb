{
 "cells": [
  {
   "cell_type": "markdown",
   "metadata": {},
   "source": [
    "## Imoprting"
   ]
  },
  {
   "cell_type": "code",
   "execution_count": 2,
   "metadata": {},
   "outputs": [],
   "source": [
    "import pandas as pd\n",
    "import matplotlib.pyplot as plt\n",
    "import numpy as np\n",
    "import seaborn as sns\n",
    "from fuzzywuzzy import fuzz,process\n",
    "from sklearn.preprocessing import OneHotEncoder,StandardScaler\n",
    "from sklearn.compose import ColumnTransformer\n",
    "from sklearn.model_selection import cross_val_score\n",
    "from sklearn.ensemble import RandomForestRegressor,BaggingRegressor\n",
    "from sklearn.compose import ColumnTransformer\n",
    "from sklearn.model_selection import train_test_split\n",
    "from sklearn.neighbors import KNeighborsRegressor\n",
    "from sklearn.metrics import mean_absolute_error\n",
    "from sklearn.tree import DecisionTreeRegressor\n",
    "from sklearn.tree import DecisionTreeRegressor\n",
    "from sklearn.ensemble import RandomForestRegressor, BaggingRegressor, AdaBoostRegressor,\\\n",
    "                            GradientBoostingRegressor, StackingRegressor\n",
    "from sklearn.linear_model import LinearRegression,SGDRegressor, Ridge, Lasso\n",
    "from sklearn.svm import SVR\n",
    "from xgboost.sklearn import XGBRegressor\n",
    "from catboost import CatBoostRegressor\n",
    "from xgboost import XGBRegressor\n",
    "from lightgbm import LGBMRegressor\n",
    "import warnings\n",
    "warnings.filterwarnings(\"ignore\")"
   ]
  },
  {
   "cell_type": "markdown",
   "metadata": {},
   "source": [
    "## Exploring"
   ]
  },
  {
   "cell_type": "code",
   "execution_count": 88,
   "metadata": {},
   "outputs": [
    {
     "name": "stdout",
     "output_type": "stream",
     "text": [
      "(7000, 15)\n"
     ]
    },
    {
     "data": {
      "text/html": [
       "<div>\n",
       "<style scoped>\n",
       "    .dataframe tbody tr th:only-of-type {\n",
       "        vertical-align: middle;\n",
       "    }\n",
       "\n",
       "    .dataframe tbody tr th {\n",
       "        vertical-align: top;\n",
       "    }\n",
       "\n",
       "    .dataframe thead th {\n",
       "        text-align: right;\n",
       "    }\n",
       "</style>\n",
       "<table border=\"1\" class=\"dataframe\">\n",
       "  <thead>\n",
       "    <tr style=\"text-align: right;\">\n",
       "      <th></th>\n",
       "      <th>ID</th>\n",
       "      <th>Brand</th>\n",
       "      <th>VehicleModel</th>\n",
       "      <th>ManufacturingYear</th>\n",
       "      <th>Type</th>\n",
       "      <th>rating</th>\n",
       "      <th>color</th>\n",
       "      <th>Duty</th>\n",
       "      <th>fuel</th>\n",
       "      <th>CylinderCount</th>\n",
       "      <th>type of gear</th>\n",
       "      <th>capacity</th>\n",
       "      <th>Odometer</th>\n",
       "      <th>#airbags</th>\n",
       "      <th>price</th>\n",
       "    </tr>\n",
       "  </thead>\n",
       "  <tbody>\n",
       "    <tr>\n",
       "      <th>0</th>\n",
       "      <td>2624</td>\n",
       "      <td>NaN</td>\n",
       "      <td>I have the fastest model ever.. yes you got it...</td>\n",
       "      <td>2017</td>\n",
       "      <td>WOOW Sedan</td>\n",
       "      <td>0.0</td>\n",
       "      <td>NaN</td>\n",
       "      <td>I had to pay a substantial $1249 levy on my ne...</td>\n",
       "      <td>Gas</td>\n",
       "      <td>4.0</td>\n",
       "      <td>R</td>\n",
       "      <td>2.5</td>\n",
       "      <td>75492 KM</td>\n",
       "      <td>1008</td>\n",
       "      <td>21012</td>\n",
       "    </tr>\n",
       "    <tr>\n",
       "      <th>1</th>\n",
       "      <td>14392</td>\n",
       "      <td>I love TOYOTA</td>\n",
       "      <td>NaN</td>\n",
       "      <td>NaN</td>\n",
       "      <td>Minivan3</td>\n",
       "      <td>5.0</td>\n",
       "      <td>Metallic</td>\n",
       "      <td>-</td>\n",
       "      <td>Gas</td>\n",
       "      <td>4.0 cyl</td>\n",
       "      <td>R</td>\n",
       "      <td>2.4</td>\n",
       "      <td>220000 KM</td>\n",
       "      <td>-96</td>\n",
       "      <td>11917</td>\n",
       "    </tr>\n",
       "    <tr>\n",
       "      <th>2</th>\n",
       "      <td>9822</td>\n",
       "      <td>hyundai</td>\n",
       "      <td>H1</td>\n",
       "      <td>2009</td>\n",
       "      <td>MINIVAN</td>\n",
       "      <td>0.0</td>\n",
       "      <td>Metallic</td>\n",
       "      <td>1185$</td>\n",
       "      <td>Dies</td>\n",
       "      <td>4.0</td>\n",
       "      <td>R</td>\n",
       "      <td>2.5</td>\n",
       "      <td>TOTAL 50653 km</td>\n",
       "      <td>4 count</td>\n",
       "      <td>22433</td>\n",
       "    </tr>\n",
       "    <tr>\n",
       "      <th>3</th>\n",
       "      <td>17123</td>\n",
       "      <td>opel</td>\n",
       "      <td>Corsa</td>\n",
       "      <td>NaN</td>\n",
       "      <td>Hatchback</td>\n",
       "      <td>5.0</td>\n",
       "      <td>Jet Black</td>\n",
       "      <td>-</td>\n",
       "      <td>NaN</td>\n",
       "      <td>4.0</td>\n",
       "      <td>auto</td>\n",
       "      <td>0</td>\n",
       "      <td>230000 KM</td>\n",
       "      <td>0</td>\n",
       "      <td>5645</td>\n",
       "    </tr>\n",
       "    <tr>\n",
       "      <th>4</th>\n",
       "      <td>11133</td>\n",
       "      <td>subaru</td>\n",
       "      <td>I own Outback.</td>\n",
       "      <td>2007</td>\n",
       "      <td>Hatchback</td>\n",
       "      <td>4.0</td>\n",
       "      <td>Sapphire Blue</td>\n",
       "      <td>-</td>\n",
       "      <td>Gas</td>\n",
       "      <td>4.0</td>\n",
       "      <td>NaN</td>\n",
       "      <td>2.5</td>\n",
       "      <td>131000 KM</td>\n",
       "      <td>4</td>\n",
       "      <td>10976</td>\n",
       "    </tr>\n",
       "  </tbody>\n",
       "</table>\n",
       "</div>"
      ],
      "text/plain": [
       "      ID          Brand                                       VehicleModel  \\\n",
       "0   2624            NaN  I have the fastest model ever.. yes you got it...   \n",
       "1  14392  I love TOYOTA                                                NaN   \n",
       "2   9822        hyundai                                                 H1   \n",
       "3  17123           opel                                              Corsa   \n",
       "4  11133         subaru                                     I own Outback.   \n",
       "\n",
       "  ManufacturingYear        Type  rating          color  \\\n",
       "0              2017  WOOW Sedan     0.0            NaN   \n",
       "1               NaN    Minivan3     5.0       Metallic   \n",
       "2              2009     MINIVAN     0.0       Metallic   \n",
       "3               NaN   Hatchback     5.0      Jet Black   \n",
       "4              2007   Hatchback     4.0  Sapphire Blue   \n",
       "\n",
       "                                                Duty  fuel CylinderCount  \\\n",
       "0  I had to pay a substantial $1249 levy on my ne...   Gas           4.0   \n",
       "1                                                  -   Gas       4.0 cyl   \n",
       "2                                              1185$  Dies           4.0   \n",
       "3                                                  -   NaN           4.0   \n",
       "4                                                  -   Gas           4.0   \n",
       "\n",
       "  type of gear capacity        Odometer #airbags  price  \n",
       "0            R      2.5        75492 KM     1008  21012  \n",
       "1            R      2.4       220000 KM      -96  11917  \n",
       "2            R      2.5  TOTAL 50653 km  4 count  22433  \n",
       "3         auto        0       230000 KM      0     5645  \n",
       "4          NaN      2.5       131000 KM      4    10976  "
      ]
     },
     "execution_count": 88,
     "metadata": {},
     "output_type": "execute_result"
    }
   ],
   "source": [
    "train = pd.read_csv('train.csv')\n",
    "train_copy = train.copy()\n",
    "test = pd.read_csv('test.csv')\n",
    "print(train.shape)\n",
    "train.head()"
   ]
  },
  {
   "cell_type": "code",
   "execution_count": 4,
   "metadata": {},
   "outputs": [
    {
     "data": {
      "text/plain": [
       "ID                      0\n",
       "Brand                 706\n",
       "VehicleModel          697\n",
       "ManufacturingYear     695\n",
       "Type                  685\n",
       "rating                690\n",
       "color                2124\n",
       "Duty                    0\n",
       "fuel                  696\n",
       "CylinderCount           0\n",
       "type of gear          692\n",
       "capacity                0\n",
       "Odometer                0\n",
       "#airbags                0\n",
       "price                   0\n",
       "dtype: int64"
      ]
     },
     "execution_count": 4,
     "metadata": {},
     "output_type": "execute_result"
    }
   ],
   "source": [
    "train.isnull().sum()"
   ]
  },
  {
   "cell_type": "code",
   "execution_count": 5,
   "metadata": {},
   "outputs": [
    {
     "data": {
      "text/html": [
       "<div>\n",
       "<style scoped>\n",
       "    .dataframe tbody tr th:only-of-type {\n",
       "        vertical-align: middle;\n",
       "    }\n",
       "\n",
       "    .dataframe tbody tr th {\n",
       "        vertical-align: top;\n",
       "    }\n",
       "\n",
       "    .dataframe thead th {\n",
       "        text-align: right;\n",
       "    }\n",
       "</style>\n",
       "<table border=\"1\" class=\"dataframe\">\n",
       "  <thead>\n",
       "    <tr style=\"text-align: right;\">\n",
       "      <th></th>\n",
       "      <th>ID</th>\n",
       "      <th>rating</th>\n",
       "      <th>price</th>\n",
       "    </tr>\n",
       "  </thead>\n",
       "  <tbody>\n",
       "    <tr>\n",
       "      <th>count</th>\n",
       "      <td>7000.000000</td>\n",
       "      <td>6310.000000</td>\n",
       "      <td>7000.000000</td>\n",
       "    </tr>\n",
       "    <tr>\n",
       "      <th>mean</th>\n",
       "      <td>9022.128714</td>\n",
       "      <td>2.559588</td>\n",
       "      <td>14406.866429</td>\n",
       "    </tr>\n",
       "    <tr>\n",
       "      <th>std</th>\n",
       "      <td>5202.316292</td>\n",
       "      <td>1.905482</td>\n",
       "      <td>11747.617978</td>\n",
       "    </tr>\n",
       "    <tr>\n",
       "      <th>min</th>\n",
       "      <td>1.000000</td>\n",
       "      <td>-4.000000</td>\n",
       "      <td>3.000000</td>\n",
       "    </tr>\n",
       "    <tr>\n",
       "      <th>25%</th>\n",
       "      <td>4546.750000</td>\n",
       "      <td>1.000000</td>\n",
       "      <td>5018.000000</td>\n",
       "    </tr>\n",
       "    <tr>\n",
       "      <th>50%</th>\n",
       "      <td>9044.500000</td>\n",
       "      <td>2.000000</td>\n",
       "      <td>12544.000000</td>\n",
       "    </tr>\n",
       "    <tr>\n",
       "      <th>75%</th>\n",
       "      <td>13523.250000</td>\n",
       "      <td>4.000000</td>\n",
       "      <td>20071.000000</td>\n",
       "    </tr>\n",
       "    <tr>\n",
       "      <th>max</th>\n",
       "      <td>18013.000000</td>\n",
       "      <td>10.000000</td>\n",
       "      <td>49889.000000</td>\n",
       "    </tr>\n",
       "  </tbody>\n",
       "</table>\n",
       "</div>"
      ],
      "text/plain": [
       "                 ID       rating         price\n",
       "count   7000.000000  6310.000000   7000.000000\n",
       "mean    9022.128714     2.559588  14406.866429\n",
       "std     5202.316292     1.905482  11747.617978\n",
       "min        1.000000    -4.000000      3.000000\n",
       "25%     4546.750000     1.000000   5018.000000\n",
       "50%     9044.500000     2.000000  12544.000000\n",
       "75%    13523.250000     4.000000  20071.000000\n",
       "max    18013.000000    10.000000  49889.000000"
      ]
     },
     "execution_count": 5,
     "metadata": {},
     "output_type": "execute_result"
    }
   ],
   "source": [
    "train.describe()"
   ]
  },
  {
   "cell_type": "code",
   "execution_count": 6,
   "metadata": {},
   "outputs": [
    {
     "data": {
      "text/html": [
       "<div>\n",
       "<style scoped>\n",
       "    .dataframe tbody tr th:only-of-type {\n",
       "        vertical-align: middle;\n",
       "    }\n",
       "\n",
       "    .dataframe tbody tr th {\n",
       "        vertical-align: top;\n",
       "    }\n",
       "\n",
       "    .dataframe thead th {\n",
       "        text-align: right;\n",
       "    }\n",
       "</style>\n",
       "<table border=\"1\" class=\"dataframe\">\n",
       "  <thead>\n",
       "    <tr style=\"text-align: right;\">\n",
       "      <th></th>\n",
       "      <th>Brand</th>\n",
       "      <th>VehicleModel</th>\n",
       "      <th>ManufacturingYear</th>\n",
       "      <th>Type</th>\n",
       "      <th>color</th>\n",
       "      <th>Duty</th>\n",
       "      <th>fuel</th>\n",
       "      <th>CylinderCount</th>\n",
       "      <th>type of gear</th>\n",
       "      <th>capacity</th>\n",
       "      <th>Odometer</th>\n",
       "      <th>#airbags</th>\n",
       "    </tr>\n",
       "  </thead>\n",
       "  <tbody>\n",
       "    <tr>\n",
       "      <th>count</th>\n",
       "      <td>6294</td>\n",
       "      <td>6303</td>\n",
       "      <td>6305</td>\n",
       "      <td>6315</td>\n",
       "      <td>4876</td>\n",
       "      <td>7000</td>\n",
       "      <td>6304</td>\n",
       "      <td>7000</td>\n",
       "      <td>6308</td>\n",
       "      <td>7000</td>\n",
       "      <td>7000</td>\n",
       "      <td>7000</td>\n",
       "    </tr>\n",
       "    <tr>\n",
       "      <th>unique</th>\n",
       "      <td>185</td>\n",
       "      <td>1480</td>\n",
       "      <td>555</td>\n",
       "      <td>81</td>\n",
       "      <td>16</td>\n",
       "      <td>1173</td>\n",
       "      <td>7</td>\n",
       "      <td>28</td>\n",
       "      <td>7</td>\n",
       "      <td>87</td>\n",
       "      <td>4964</td>\n",
       "      <td>321</td>\n",
       "    </tr>\n",
       "    <tr>\n",
       "      <th>top</th>\n",
       "      <td>toyota</td>\n",
       "      <td>Prius</td>\n",
       "      <td>2012</td>\n",
       "      <td>sedan</td>\n",
       "      <td>Jet Black</td>\n",
       "      <td>-</td>\n",
       "      <td>Gas</td>\n",
       "      <td>4.0</td>\n",
       "      <td>auto</td>\n",
       "      <td>2</td>\n",
       "      <td>0 km</td>\n",
       "      <td>12</td>\n",
       "    </tr>\n",
       "    <tr>\n",
       "      <th>freq</th>\n",
       "      <td>497</td>\n",
       "      <td>113</td>\n",
       "      <td>429</td>\n",
       "      <td>1160</td>\n",
       "      <td>1239</td>\n",
       "      <td>2108</td>\n",
       "      <td>3272</td>\n",
       "      <td>2638</td>\n",
       "      <td>2870</td>\n",
       "      <td>1261</td>\n",
       "      <td>79</td>\n",
       "      <td>830</td>\n",
       "    </tr>\n",
       "  </tbody>\n",
       "</table>\n",
       "</div>"
      ],
      "text/plain": [
       "         Brand VehicleModel ManufacturingYear   Type      color  Duty  fuel  \\\n",
       "count     6294         6303              6305   6315       4876  7000  6304   \n",
       "unique     185         1480               555     81         16  1173     7   \n",
       "top     toyota        Prius              2012  sedan  Jet Black     -   Gas   \n",
       "freq       497          113               429   1160       1239  2108  3272   \n",
       "\n",
       "       CylinderCount type of gear capacity Odometer #airbags  \n",
       "count           7000         6308     7000     7000     7000  \n",
       "unique            28            7       87     4964      321  \n",
       "top              4.0         auto        2     0 km       12  \n",
       "freq            2638         2870     1261       79      830  "
      ]
     },
     "execution_count": 6,
     "metadata": {},
     "output_type": "execute_result"
    }
   ],
   "source": [
    "train.describe(include='object')"
   ]
  },
  {
   "cell_type": "markdown",
   "metadata": {},
   "source": [
    "### Check for duplicates"
   ]
  },
  {
   "cell_type": "code",
   "execution_count": 7,
   "metadata": {},
   "outputs": [
    {
     "data": {
      "text/plain": [
       "0"
      ]
     },
     "execution_count": 7,
     "metadata": {},
     "output_type": "execute_result"
    }
   ],
   "source": [
    "train.duplicated(subset='ID').sum()"
   ]
  },
  {
   "cell_type": "markdown",
   "metadata": {},
   "source": [
    "### Check for Nulls"
   ]
  },
  {
   "cell_type": "code",
   "execution_count": 8,
   "metadata": {},
   "outputs": [
    {
     "data": {
      "text/html": [
       "<div>\n",
       "<style scoped>\n",
       "    .dataframe tbody tr th:only-of-type {\n",
       "        vertical-align: middle;\n",
       "    }\n",
       "\n",
       "    .dataframe tbody tr th {\n",
       "        vertical-align: top;\n",
       "    }\n",
       "\n",
       "    .dataframe thead th {\n",
       "        text-align: right;\n",
       "    }\n",
       "</style>\n",
       "<table border=\"1\" class=\"dataframe\">\n",
       "  <thead>\n",
       "    <tr style=\"text-align: right;\">\n",
       "      <th></th>\n",
       "      <th>No. null</th>\n",
       "      <th>% null</th>\n",
       "    </tr>\n",
       "  </thead>\n",
       "  <tbody>\n",
       "    <tr>\n",
       "      <th>ID</th>\n",
       "      <td>0</td>\n",
       "      <td>0.000000</td>\n",
       "    </tr>\n",
       "    <tr>\n",
       "      <th>Brand</th>\n",
       "      <td>706</td>\n",
       "      <td>10.085714</td>\n",
       "    </tr>\n",
       "    <tr>\n",
       "      <th>VehicleModel</th>\n",
       "      <td>697</td>\n",
       "      <td>9.957143</td>\n",
       "    </tr>\n",
       "    <tr>\n",
       "      <th>ManufacturingYear</th>\n",
       "      <td>695</td>\n",
       "      <td>9.928571</td>\n",
       "    </tr>\n",
       "    <tr>\n",
       "      <th>Type</th>\n",
       "      <td>685</td>\n",
       "      <td>9.785714</td>\n",
       "    </tr>\n",
       "    <tr>\n",
       "      <th>rating</th>\n",
       "      <td>690</td>\n",
       "      <td>9.857143</td>\n",
       "    </tr>\n",
       "    <tr>\n",
       "      <th>color</th>\n",
       "      <td>2124</td>\n",
       "      <td>30.342857</td>\n",
       "    </tr>\n",
       "    <tr>\n",
       "      <th>Duty</th>\n",
       "      <td>0</td>\n",
       "      <td>0.000000</td>\n",
       "    </tr>\n",
       "    <tr>\n",
       "      <th>fuel</th>\n",
       "      <td>696</td>\n",
       "      <td>9.942857</td>\n",
       "    </tr>\n",
       "    <tr>\n",
       "      <th>CylinderCount</th>\n",
       "      <td>0</td>\n",
       "      <td>0.000000</td>\n",
       "    </tr>\n",
       "    <tr>\n",
       "      <th>type of gear</th>\n",
       "      <td>692</td>\n",
       "      <td>9.885714</td>\n",
       "    </tr>\n",
       "    <tr>\n",
       "      <th>capacity</th>\n",
       "      <td>0</td>\n",
       "      <td>0.000000</td>\n",
       "    </tr>\n",
       "    <tr>\n",
       "      <th>Odometer</th>\n",
       "      <td>0</td>\n",
       "      <td>0.000000</td>\n",
       "    </tr>\n",
       "    <tr>\n",
       "      <th>#airbags</th>\n",
       "      <td>0</td>\n",
       "      <td>0.000000</td>\n",
       "    </tr>\n",
       "    <tr>\n",
       "      <th>price</th>\n",
       "      <td>0</td>\n",
       "      <td>0.000000</td>\n",
       "    </tr>\n",
       "  </tbody>\n",
       "</table>\n",
       "</div>"
      ],
      "text/plain": [
       "                   No. null     % null\n",
       "ID                        0   0.000000\n",
       "Brand                   706  10.085714\n",
       "VehicleModel            697   9.957143\n",
       "ManufacturingYear       695   9.928571\n",
       "Type                    685   9.785714\n",
       "rating                  690   9.857143\n",
       "color                  2124  30.342857\n",
       "Duty                      0   0.000000\n",
       "fuel                    696   9.942857\n",
       "CylinderCount             0   0.000000\n",
       "type of gear            692   9.885714\n",
       "capacity                  0   0.000000\n",
       "Odometer                  0   0.000000\n",
       "#airbags                  0   0.000000\n",
       "price                     0   0.000000"
      ]
     },
     "execution_count": 8,
     "metadata": {},
     "output_type": "execute_result"
    }
   ],
   "source": [
    "null =pd.DataFrame(train.isnull().sum(),columns=['No. null'])\n",
    "presentage = pd.DataFrame(train.isnull().sum()/train.shape[0]*100,columns=['% null'])\n",
    "null = null.join(presentage)\n",
    "null"
   ]
  },
  {
   "cell_type": "markdown",
   "metadata": {},
   "source": [
    "## Tasks\n",
    "### From easy to hard\n",
    "We need to clean:\n",
    "- 1 Rating ✅\n",
    "- 2 capacity ✅\n",
    "- 3 #airbags ✅ -Note- Don't Delete outlires!\n",
    "- 4 color ✅\n",
    "- 5 fuel ✅\n",
    "- 6 type of gear ✅\n",
    "- 7 CylinderCount ✅\n",
    "- 8 Type ✅\n",
    "- 9 Odometer ✅\n",
    "- 10 ManufacturingYear ✅\n",
    "- 11 Brand ✅\n",
    "- 12 Duty ✅\n",
    "- 13 VehicleModel ✅"
   ]
  },
  {
   "cell_type": "markdown",
   "metadata": {},
   "source": [
    "## Cleaning"
   ]
  },
  {
   "cell_type": "markdown",
   "metadata": {},
   "source": [
    "### Rename cols"
   ]
  },
  {
   "cell_type": "code",
   "execution_count": 9,
   "metadata": {},
   "outputs": [],
   "source": [
    "train.rename(columns={'#airbags': 'airbags',\n",
    "                      'type of gear': 'gearType'}, inplace=True)"
   ]
  },
  {
   "cell_type": "markdown",
   "metadata": {},
   "source": [
    "### Convert all object cols to string to avoid any errors"
   ]
  },
  {
   "cell_type": "code",
   "execution_count": 10,
   "metadata": {},
   "outputs": [],
   "source": [
    "object_cols = train.select_dtypes(include='object').columns\n",
    "train[object_cols] = train[object_cols].astype(str)"
   ]
  },
  {
   "cell_type": "markdown",
   "metadata": {},
   "source": [
    "### Cleaning Type Column"
   ]
  },
  {
   "cell_type": "code",
   "execution_count": 11,
   "metadata": {},
   "outputs": [
    {
     "data": {
      "text/plain": [
       "Type\n",
       "sedan         1160\n",
       "SEDAN          850\n",
       "jeep           691\n",
       "nan            685\n",
       "JEEP           501\n",
       "              ... \n",
       "Pickup1          1\n",
       "Universal4       1\n",
       "Coupe2           1\n",
       "Pickup3          1\n",
       "Pickup0          1\n",
       "Name: count, Length: 82, dtype: int64"
      ]
     },
     "execution_count": 11,
     "metadata": {},
     "output_type": "execute_result"
    }
   ],
   "source": [
    "train.Type.value_counts()"
   ]
  },
  {
   "cell_type": "code",
   "execution_count": 12,
   "metadata": {},
   "outputs": [],
   "source": [
    "def clean_Type(TypeCol):\n",
    "    TypeCol = TypeCol.str.lower()\n",
    "    TypeCol = TypeCol.str.strip()\n",
    "    list_of_mapping = ['sedan', 'minivan', 'hatchback', 'pickup', 'jeep', 'microbus', 'coupe', 'universal', 'goods wagon', 'cabriolet', 'limousine']\n",
    "    \n",
    "    def clean_value(value, standard_values, threshold=80):\n",
    "        if pd.isna(value):\n",
    "            return value\n",
    "        best_match = process.extractOne(value, standard_values, scorer=fuzz.token_sort_ratio)\n",
    "        if best_match[1] >= threshold:\n",
    "            return best_match[0]\n",
    "        return value\n",
    "    \n",
    "    TypeCol = TypeCol.apply(lambda x: clean_value(x, list_of_mapping))\n",
    "    TypeCol = TypeCol.str.replace('woow ', '')\n",
    "    return TypeCol\n"
   ]
  },
  {
   "cell_type": "code",
   "execution_count": 13,
   "metadata": {},
   "outputs": [],
   "source": [
    "train['Type'] = clean_Type(train['Type'])\n"
   ]
  },
  {
   "cell_type": "code",
   "execution_count": 14,
   "metadata": {},
   "outputs": [
    {
     "data": {
      "text/plain": [
       "Type\n",
       "sedan          2907\n",
       "jeep           1706\n",
       "hatchback       989\n",
       "nan             685\n",
       "minivan         240\n",
       "coupe           153\n",
       "universal       107\n",
       "microbus        101\n",
       "goods wagon      87\n",
       "pickup           14\n",
       "cabriolet         9\n",
       "limousine         2\n",
       "Name: count, dtype: int64"
      ]
     },
     "execution_count": 14,
     "metadata": {},
     "output_type": "execute_result"
    }
   ],
   "source": [
    "train.Type.value_counts()"
   ]
  },
  {
   "cell_type": "markdown",
   "metadata": {},
   "source": [
    "### Cleaning capacity"
   ]
  },
  {
   "cell_type": "code",
   "execution_count": 15,
   "metadata": {},
   "outputs": [
    {
     "data": {
      "text/plain": [
       "array(['2.5', '2.4', '0', '2', '5', '3', '1.3', '1.5', '1.6', '1.8',\n",
       "       '3.5', '2.7 Turbo', '1.8 Turbo', '2.7', '2.5 Turbo', '3.3', '1.7',\n",
       "       '2.2', '2.2 Turbo', '4', '1.4', '4.8', '1.2', '2.3', '1.6 Turbo',\n",
       "       '4.7', '2.0 Turbo', '2.8 Turbo', '3.2', '5.5', '6.2', '4.6', '3.7',\n",
       "       '1', '3.0 Turbo', '1.9 Turbo', '2.4 Turbo', '5.0 Turbo', '3.6',\n",
       "       '4.4', '1.4 Turbo', '2.6', '3.2 Turbo', '0.6 Turbo', '1.5 Turbo',\n",
       "       '6.3', '3.8', '5.7', '1.9', '4.5', '5.9', '0.3', '5.5 Turbo',\n",
       "       '4.5 Turbo', '4.2', '3.5 Turbo', '0.4', '0.1', '0.2', '0.8',\n",
       "       '4.4 Turbo', '2.3 Turbo', '4.7 Turbo', '2.9 Turbo', '1.7 Turbo',\n",
       "       '6.7', '2.1 Turbo', '2.8', '2.9', '0.7', '2.1', '1.3 Turbo', '5.4',\n",
       "       '5.4 Turbo', '3.4', '5.3', '4.3', '0.9', '0.8 Turbo', '0.6',\n",
       "       '3.6 Turbo', '1.0 Turbo', '5.6', '5.2', '1.1', '4.8 Turbo', '0.5'],\n",
       "      dtype=object)"
      ]
     },
     "execution_count": 15,
     "metadata": {},
     "output_type": "execute_result"
    }
   ],
   "source": [
    "train.capacity.unique()"
   ]
  },
  {
   "cell_type": "code",
   "execution_count": 16,
   "metadata": {},
   "outputs": [],
   "source": [
    "train.capacity = train.capacity.astype('category')"
   ]
  },
  {
   "cell_type": "markdown",
   "metadata": {},
   "source": [
    "### Cleaning #airbags"
   ]
  },
  {
   "cell_type": "code",
   "execution_count": 17,
   "metadata": {},
   "outputs": [
    {
     "data": {
      "text/plain": [
       "array(['1008', '-96', '4 count', '0  ', '4  ', '12', '6 count', '8', '4',\n",
       "       '12,', '6~', '106', '6', '2', '8 bags', '12<', '0',\n",
       "       'ONLY 10 AIRBAG', '12 count', 'ONLY 4 AIRBAG', '1012', '10',\n",
       "       '12 bags', '4 bags', 'ONLY 8 AIRBAG', '5', '8 count',\n",
       "       'ONLY 0 AIRBAG', '12/', 'ONLY 6 AIRBAG', '12)', '-100', '8=',\n",
       "       'ONLY 12 AIRBAG', '12  ', '108', '4<', '-94', '12|', '6 bags',\n",
       "       '2 count', '12`', '4]', '8$', '-88', '10 count', '6  ', '12>',\n",
       "       '112', '6(', '11', '110', '4@', '4&', '0 count', '4{', '4#', '104',\n",
       "       '1005', '12~', '4!', '2  ', '5 count', '16 bags', '6?', '1', '-92',\n",
       "       '100', '1004', '9', '14', '4$', '4,', '12!', '8  ', '-90', '12&',\n",
       "       '6/', '1 count', 'ONLY 2 AIRBAG', '0~', \"8'\", '2 bags', '4[',\n",
       "       '10 bags', '8&', '0 bags', '12#', \"4'\", '2<', '0#', \"0'\", '13',\n",
       "       '2(', '2*', '4\"', '4(', '0-', '8:', '2,', '8@', 'ONLY 5 AIRBAG',\n",
       "       '-98', '4_', '0\"', '0[', '10  ', '7', '12}', '1002', '6\"', '6_',\n",
       "       '6:', '4;', '1000', '2:', '12$', '4`', '8(', '7  ', '12+', '10+',\n",
       "       '0}', '12;', '4|', '16', '10^', '12@', '4:', '6{', '0^',\n",
       "       'ONLY 9 AIRBAG', '8#', '105', '4+', '12_', '0|', '12.', '0)', '0;',\n",
       "       '1010', '12]', 'ONLY 11 AIRBAG', '1007', \"12'\", '0>', '1<', '12%',\n",
       "       '6=', '8[', '116', '9  ', '4=', '0,', '12(', '11 count', '0{',\n",
       "       '14  ', '0_', '4-', '5 bags', '0%', '12:', '0(', '10_', '8}', '4.',\n",
       "       '8/', '6*', '2{', '12{', '0.', '8-', '6-', '0]', '4>', '7(', '14;',\n",
       "       '10%', '3', '10,', '1 bags', '10|', '10@', '5  ', '7 count', '4^',\n",
       "       '102', '4/', '-99', '9]', '10&', 'ONLY 16 AIRBAG', '12=', '0*',\n",
       "       '4~', '6)', '1  ', '3/', '12\\\\', '16 count', '6+', '12*', '1006',\n",
       "       '0`', '10;', '10$', '8\"', '0!', '6]', '2~', '8\\\\', '9 count',\n",
       "       'ONLY 7 AIRBAG', '4}', '10-', '12\"', '7|', '4?', '12?', '2|', '8.',\n",
       "       '5\\\\', 'ONLY 1 AIRBAG', '16(', '2>', '2\\\\', '0+', '12-', '2-',\n",
       "       '4*', '4\\\\', '1016', '0:', '8!', \"7'\", '4)', '0=', '12^', '14:',\n",
       "       '8<', '2/', '3 bags', 'ONLY 3 AIRBAG', '6^', '2\"', '2_', '1%',\n",
       "       '1&', '16  ', '1~', '0@', '0$', '9[', '6&', '6<', '2$', '10[',\n",
       "       '0/', '1_', '7 bags', '8;', '9 bags', '15  ', '101', '4%', '12[',\n",
       "       '1{', \"10'\", '8]', '6%', '8~', '6.', '8%', '8`', '2[', '8,', '6;',\n",
       "       '3:', '111', '0<', '2%', '3  ', '8*', '-97', '2=', '9?', '5]',\n",
       "       '6,', '6}', '5,', '10#', '6@', '6\\\\', '6$', '2+', '10(', '11  ',\n",
       "       '2;', '11[', '0?', '1]', '6`', \"6'\", '107', '8|', '8)', '11~',\n",
       "       '9)', '15 count', '8>', '0&', '11$', '5!', '7.', '109', '6[',\n",
       "       '10\"', '11 bags', '5$', '-95'], dtype=object)"
      ]
     },
     "execution_count": 17,
     "metadata": {},
     "output_type": "execute_result"
    }
   ],
   "source": [
    "train.airbags.unique()"
   ]
  },
  {
   "cell_type": "code",
   "execution_count": 18,
   "metadata": {},
   "outputs": [
    {
     "data": {
      "text/plain": [
       "dtype('O')"
      ]
     },
     "execution_count": 18,
     "metadata": {},
     "output_type": "execute_result"
    }
   ],
   "source": [
    "train.airbags.dtype"
   ]
  },
  {
   "cell_type": "code",
   "execution_count": 19,
   "metadata": {},
   "outputs": [],
   "source": [
    "# Replace the non-numeric characters in the airbags column with an empty string\n",
    "train['airbags'] = train['airbags'].str.replace(r'\\D', '', regex=True).astype(int)\n"
   ]
  },
  {
   "cell_type": "code",
   "execution_count": 20,
   "metadata": {},
   "outputs": [
    {
     "data": {
      "text/plain": [
       "count    7000.000000\n",
       "mean       45.664429\n",
       "std       178.772417\n",
       "min         0.000000\n",
       "25%         4.000000\n",
       "50%         6.000000\n",
       "75%        12.000000\n",
       "max      1016.000000\n",
       "Name: airbags, dtype: float64"
      ]
     },
     "execution_count": 20,
     "metadata": {},
     "output_type": "execute_result"
    }
   ],
   "source": [
    "train.airbags.describe()"
   ]
  },
  {
   "cell_type": "code",
   "execution_count": 21,
   "metadata": {},
   "outputs": [
    {
     "data": {
      "text/plain": [
       "airbags\n",
       "4       1870\n",
       "12      1852\n",
       "0        774\n",
       "8        545\n",
       "6        455\n",
       "2        357\n",
       "10       270\n",
       "96        78\n",
       "1012      77\n",
       "88        69\n",
       "104       60\n",
       "100       59\n",
       "112       57\n",
       "1004      52\n",
       "5         34\n",
       "1         33\n",
       "7         30\n",
       "16        27\n",
       "1000      25\n",
       "1008      24\n",
       "108       23\n",
       "1002      22\n",
       "106       22\n",
       "98        21\n",
       "9         19\n",
       "92        18\n",
       "94        17\n",
       "11        16\n",
       "90        13\n",
       "1010      12\n",
       "1006      11\n",
       "3         11\n",
       "110       10\n",
       "102        9\n",
       "14         7\n",
       "1007       4\n",
       "15         2\n",
       "1005       2\n",
       "116        2\n",
       "13         2\n",
       "99         1\n",
       "105        1\n",
       "1016       1\n",
       "101        1\n",
       "111        1\n",
       "97         1\n",
       "107        1\n",
       "109        1\n",
       "95         1\n",
       "Name: count, dtype: int64"
      ]
     },
     "execution_count": 21,
     "metadata": {},
     "output_type": "execute_result"
    }
   ],
   "source": [
    "train.airbags.value_counts()"
   ]
  },
  {
   "cell_type": "code",
   "execution_count": 22,
   "metadata": {},
   "outputs": [
    {
     "data": {
      "text/plain": [
       "<Axes: xlabel='airbags'>"
      ]
     },
     "execution_count": 22,
     "metadata": {},
     "output_type": "execute_result"
    },
    {
     "data": {
      "image/png": "[encoded data removed]",
      "text/plain": [
       "<Figure size 640x480 with 1 Axes>"
      ]
     },
     "metadata": {},
     "output_type": "display_data"
    }
   ],
   "source": [
    "sns.boxenplot(x=train.airbags)"
   ]
  },
  {
   "cell_type": "code",
   "execution_count": 23,
   "metadata": {},
   "outputs": [
    {
     "data": {
      "text/plain": [
       "Type         airbags\n",
       "cabriolet    12           3\n",
       "coupe        12          37\n",
       "goods wagon  12           2\n",
       "hatchback    12         154\n",
       "jeep         12         483\n",
       "minivan      12          11\n",
       "nan          12         174\n",
       "pickup       12           4\n",
       "sedan        12         980\n",
       "universal    12           4\n",
       "Name: count, dtype: int64"
      ]
     },
     "execution_count": 23,
     "metadata": {},
     "output_type": "execute_result"
    }
   ],
   "source": [
    "train[train.airbags == 12].groupby('Type')[\"airbags\"].value_counts()\n"
   ]
  },
  {
   "cell_type": "code",
   "execution_count": 24,
   "metadata": {},
   "outputs": [
    {
     "data": {
      "text/plain": [
       "Type\n",
       "cabriolet      16726.000000\n",
       "coupe          10434.621622\n",
       "goods wagon    10662.500000\n",
       "hatchback       8267.961039\n",
       "jeep           11494.523810\n",
       "minivan        20598.363636\n",
       "nan            10059.206897\n",
       "pickup         20502.000000\n",
       "sedan           9934.785714\n",
       "universal      30576.750000\n",
       "Name: price, dtype: float64"
      ]
     },
     "execution_count": 24,
     "metadata": {},
     "output_type": "execute_result"
    }
   ],
   "source": [
    "mean_price = train[train.airbags == 12].groupby('Type')[\"price\"].mean()\n",
    "mean_price"
   ]
  },
  {
   "cell_type": "code",
   "execution_count": 25,
   "metadata": {},
   "outputs": [
    {
     "data": {
      "image/png": "[encoded data removed]",
      "text/plain": [
       "<Figure size 640x480 with 1 Axes>"
      ]
     },
     "metadata": {},
     "output_type": "display_data"
    }
   ],
   "source": [
    "mode_airbags = train.groupby('Type')['airbags'].apply(lambda x: x.mode()[0])\n",
    "mode_airbags.plot(kind='bar')\n",
    "plt.xlabel('Type')\n",
    "plt.ylabel('Mode of Airbags')\n",
    "plt.title('Mode of Airbags in Different Types')\n",
    "plt.show()"
   ]
  },
  {
   "cell_type": "markdown",
   "metadata": {},
   "source": [
    "There is a lot of outliers here, actually, there is no cars have more than 12 airbags in the world!"
   ]
  },
  {
   "cell_type": "code",
   "execution_count": 26,
   "metadata": {},
   "outputs": [],
   "source": [
    "train.loc[(train['airbags'] > 12) | (train['airbags'] <= 0), 'airbags'] = 4"
   ]
  },
  {
   "cell_type": "code",
   "execution_count": 27,
   "metadata": {},
   "outputs": [
    {
     "data": {
      "text/plain": [
       "<Axes: xlabel='airbags'>"
      ]
     },
     "execution_count": 27,
     "metadata": {},
     "output_type": "execute_result"
    },
    {
     "data": {
      "image/png": "[encoded data removed]",
      "text/plain": [
       "<Figure size 640x480 with 1 Axes>"
      ]
     },
     "metadata": {},
     "output_type": "display_data"
    }
   ],
   "source": [
    "sns.boxenplot(x=train.airbags)"
   ]
  },
  {
   "cell_type": "markdown",
   "metadata": {},
   "source": [
    "Now that's better :)"
   ]
  },
  {
   "cell_type": "markdown",
   "metadata": {},
   "source": [
    "### Cleaning color"
   ]
  },
  {
   "cell_type": "code",
   "execution_count": 28,
   "metadata": {},
   "outputs": [
    {
     "data": {
      "text/plain": [
       "color\n",
       "nan              2124\n",
       "Jet Black        1239\n",
       "Pearl White      1083\n",
       "Metallic          995\n",
       "Charcoal          628\n",
       "Sapphire Blue     371\n",
       "Crimson           166\n",
       "Emerald Green      77\n",
       "Tangerine          66\n",
       "Gold               49\n",
       "Chocolate          47\n",
       "Ruby Red           44\n",
       "Sky Blue           35\n",
       "Sand               34\n",
       "Lemon Yellow       30\n",
       "Royal Purple        7\n",
       "Rose Pink           5\n",
       "Name: count, dtype: int64"
      ]
     },
     "execution_count": 28,
     "metadata": {},
     "output_type": "execute_result"
    }
   ],
   "source": [
    "train.color.value_counts()"
   ]
  },
  {
   "cell_type": "markdown",
   "metadata": {},
   "source": [
    "Everything alright here"
   ]
  },
  {
   "cell_type": "markdown",
   "metadata": {},
   "source": [
    "### Cleaning fuel"
   ]
  },
  {
   "cell_type": "code",
   "execution_count": 29,
   "metadata": {},
   "outputs": [
    {
     "data": {
      "text/plain": [
       "fuel\n",
       "Gas                3272\n",
       "Dies               1291\n",
       "Electric Hybrid    1250\n",
       "nan                 696\n",
       "other               307\n",
       "Natural Gas         157\n",
       "hyb                  26\n",
       "others                1\n",
       "Name: count, dtype: int64"
      ]
     },
     "execution_count": 29,
     "metadata": {},
     "output_type": "execute_result"
    }
   ],
   "source": [
    "train.fuel.value_counts()"
   ]
  },
  {
   "cell_type": "code",
   "execution_count": 30,
   "metadata": {},
   "outputs": [],
   "source": [
    "maps = {\"others\": \"other\",\n",
    "       \"Natural Gas\":\"Gas\",\n",
    "       'Electric Hybrid': 'Hybrid',\n",
    "       \"hyb\": \"Hybrid\"}\n",
    "train.fuel = train.fuel.replace(maps)"
   ]
  },
  {
   "cell_type": "code",
   "execution_count": 31,
   "metadata": {},
   "outputs": [
    {
     "data": {
      "text/plain": [
       "fuel\n",
       "Gas       3429\n",
       "Dies      1291\n",
       "Hybrid    1276\n",
       "nan        696\n",
       "other      308\n",
       "Name: count, dtype: int64"
      ]
     },
     "execution_count": 31,
     "metadata": {},
     "output_type": "execute_result"
    }
   ],
   "source": [
    "train.fuel.value_counts()"
   ]
  },
  {
   "cell_type": "markdown",
   "metadata": {},
   "source": [
    "### Cleaning gearType"
   ]
  },
  {
   "cell_type": "code",
   "execution_count": 32,
   "metadata": {},
   "outputs": [
    {
     "data": {
      "text/plain": [
       "gearType\n",
       "auto      2870\n",
       "others    1228\n",
       "nan        692\n",
       "gear       639\n",
       "R          635\n",
       "AUTO       553\n",
       "manual     320\n",
       "MANUAL      63\n",
       "Name: count, dtype: int64"
      ]
     },
     "execution_count": 32,
     "metadata": {},
     "output_type": "execute_result"
    }
   ],
   "source": [
    "train.gearType.value_counts()"
   ]
  },
  {
   "cell_type": "code",
   "execution_count": 33,
   "metadata": {},
   "outputs": [
    {
     "data": {
      "text/plain": [
       "gearType\n",
       "auto      3423\n",
       "manual    1657\n",
       "others    1228\n",
       "nan        692\n",
       "Name: count, dtype: int64"
      ]
     },
     "execution_count": 33,
     "metadata": {},
     "output_type": "execute_result"
    }
   ],
   "source": [
    "train.gearType = train.gearType.str.lower()\n",
    "train.gearType.replace('r', 'manual', inplace=True)\n",
    "train.gearType.replace('gear', 'manual', inplace=True)\n",
    "train.gearType.value_counts()"
   ]
  },
  {
   "cell_type": "markdown",
   "metadata": {},
   "source": [
    "### Cleaning CylinderCount"
   ]
  },
  {
   "cell_type": "code",
   "execution_count": 34,
   "metadata": {},
   "outputs": [
    {
     "data": {
      "text/plain": [
       "CylinderCount\n",
       "4.0         2638\n",
       "4.0 cyl     1631\n",
       "0            718\n",
       "6.0          627\n",
       "14.0         525\n",
       "6.0 cyl      344\n",
       "8.0          161\n",
       "16.0         107\n",
       "8.0 cyl       94\n",
       "5.0           29\n",
       "18.0          26\n",
       "5.0 cyl       19\n",
       "3.0           16\n",
       "3.0 cyl       12\n",
       "12.0           8\n",
       "2.0            7\n",
       "1.0            7\n",
       "15.0           6\n",
       "2.0 cyl        6\n",
       "12.0 cyl       4\n",
       "1.0 cyl        3\n",
       "10.0           3\n",
       "16.0 cyl       2\n",
       "11.0           2\n",
       "7.0            2\n",
       "10.0 cyl       1\n",
       "13.0           1\n",
       "9.0            1\n",
       "Name: count, dtype: int64"
      ]
     },
     "execution_count": 34,
     "metadata": {},
     "output_type": "execute_result"
    }
   ],
   "source": [
    "train.CylinderCount.value_counts()"
   ]
  },
  {
   "cell_type": "code",
   "execution_count": 35,
   "metadata": {},
   "outputs": [
    {
     "data": {
      "text/plain": [
       "CylinderCount\n",
       "4.0     4269\n",
       "6.0      971\n",
       "14.0     525\n",
       "8.0      255\n",
       "16.0     109\n",
       "5.0       48\n",
       "3.0       28\n",
       "18.0      26\n",
       "2.0       13\n",
       "12.0      12\n",
       "1.0       10\n",
       "15.0       6\n",
       "10.0       4\n",
       "11.0       2\n",
       "7.0        2\n",
       "9.0        1\n",
       "13.0       1\n",
       "Name: count, dtype: int64"
      ]
     },
     "execution_count": 35,
     "metadata": {},
     "output_type": "execute_result"
    }
   ],
   "source": [
    "# delete word \"cyl\" \n",
    "train.CylinderCount = train.CylinderCount.apply(lambda x: x.replace('cyl',''))\n",
    "train.CylinderCount = train.CylinderCount.str.strip()\n",
    "train.CylinderCount = train.CylinderCount.astype(float)\n",
    "\n",
    "# Replace 0 Values with NaN\n",
    "train.loc[train.CylinderCount == 0, 'CylinderCount'] = np.nan\n",
    "train.CylinderCount.value_counts()"
   ]
  },
  {
   "cell_type": "markdown",
   "metadata": {},
   "source": [
    "### Cleaning Odometer"
   ]
  },
  {
   "cell_type": "code",
   "execution_count": 36,
   "metadata": {},
   "outputs": [
    {
     "data": {
      "text/plain": [
       "array(['75492 KM', '220000 KM', 'TOTAL 50653 km', ..., '156802  kilo',\n",
       "       '314373 KM', '131627'], dtype=object)"
      ]
     },
     "execution_count": 36,
     "metadata": {},
     "output_type": "execute_result"
    }
   ],
   "source": [
    "train.Odometer.unique()"
   ]
  },
  {
   "cell_type": "code",
   "execution_count": 37,
   "metadata": {},
   "outputs": [
    {
     "data": {
      "text/plain": [
       "count    7.000000e+03\n",
       "mean     1.589344e+06\n",
       "std      5.018431e+07\n",
       "min      0.000000e+00\n",
       "25%      7.453000e+04\n",
       "50%      1.291280e+05\n",
       "75%      1.904135e+05\n",
       "max      2.147484e+09\n",
       "Name: Odometer, dtype: float64"
      ]
     },
     "execution_count": 37,
     "metadata": {},
     "output_type": "execute_result"
    }
   ],
   "source": [
    "train.Odometer = train.Odometer.str.replace(r'\\D', '', regex=True).astype(float)\n",
    "train.Odometer.describe()"
   ]
  },
  {
   "cell_type": "markdown",
   "metadata": {},
   "source": [
    "### Cleaning Duty"
   ]
  },
  {
   "cell_type": "code",
   "execution_count": 38,
   "metadata": {},
   "outputs": [
    {
     "data": {
      "text/plain": [
       "array(['I had to pay a substantial $1249 levy on my new car purchase.',\n",
       "       '-', '1185$', ..., '2909$',\n",
       "       'The car levy amounted is 893 per vehicle.', '965'], dtype=object)"
      ]
     },
     "execution_count": 38,
     "metadata": {},
     "output_type": "execute_result"
    }
   ],
   "source": [
    "train.Duty.unique()"
   ]
  },
  {
   "cell_type": "code",
   "execution_count": 39,
   "metadata": {},
   "outputs": [
    {
     "data": {
      "text/plain": [
       "count     7000\n",
       "unique    1173\n",
       "top          -\n",
       "freq      2108\n",
       "Name: Duty, dtype: object"
      ]
     },
     "execution_count": 39,
     "metadata": {},
     "output_type": "execute_result"
    }
   ],
   "source": [
    "train.Duty.describe()"
   ]
  },
  {
   "cell_type": "code",
   "execution_count": 40,
   "metadata": {},
   "outputs": [],
   "source": [
    "train.Duty = train.Duty.str.strip()\n",
    "train.Duty.replace('-', np.nan, inplace=True)\n",
    "train.Duty = train.Duty.str.replace(r'\\D', '', regex=True)\n",
    "\n",
    "# Replace empty strings with NaN\n",
    "train['Duty'] = train['Duty'].replace(r'^\\s*$', np.nan, regex=True).astype(float)"
   ]
  },
  {
   "cell_type": "markdown",
   "metadata": {},
   "source": [
    "### Cleaning Brand"
   ]
  },
  {
   "cell_type": "code",
   "execution_count": 41,
   "metadata": {},
   "outputs": [
    {
     "data": {
      "text/plain": [
       "Brand\n",
       "nan                   706\n",
       "toyota                497\n",
       "hyundai               486\n",
       "TOYOTA                370\n",
       "HYUNDAI               364\n",
       "                     ... \n",
       "SCION                   1\n",
       "ROLLS-ROYCE             1\n",
       "DAEWOO is the best      1\n",
       "I love CITROEN          1\n",
       "Jaguar                  1\n",
       "Name: count, Length: 186, dtype: int64"
      ]
     },
     "execution_count": 41,
     "metadata": {},
     "output_type": "execute_result"
    }
   ],
   "source": [
    "train.Brand.value_counts()"
   ]
  },
  {
   "cell_type": "code",
   "execution_count": 42,
   "metadata": {},
   "outputs": [
    {
     "data": {
      "text/plain": [
       "Brand\n",
       "toyota           1246\n",
       "hyundai          1225\n",
       "nan               706\n",
       "mercedes-benz     651\n",
       "chevrolet         362\n",
       "ford              353\n",
       "bmw               333\n",
       "honda             325\n",
       "lexus             279\n",
       "nissan            216\n",
       "volkswagen        194\n",
       "ssangyong         163\n",
       "kia               155\n",
       "opel              139\n",
       "subaru            105\n",
       "mitsubishi         96\n",
       "audi               78\n",
       "mazda              61\n",
       "jeep               44\n",
       "fiat               30\n",
       "dodge              30\n",
       "daewoo             30\n",
       "suzuki             24\n",
       "renault            13\n",
       "jaguar             12\n",
       "porsche            11\n",
       "mini               11\n",
       "vaz                11\n",
       "lincoln            10\n",
       "land rover          9\n",
       "skoda               7\n",
       "peugeot             7\n",
       "volvo               7\n",
       "infiniti            7\n",
       "buick               6\n",
       "daihatsu            5\n",
       "uaz                 5\n",
       "gaz                 4\n",
       "chrysler            3\n",
       "citroen             3\n",
       "scion               3\n",
       "cadillac            3\n",
       "acura               2\n",
       "moskvich            2\n",
       "alfa romeo          2\n",
       "gmc                 2\n",
       "mercury             2\n",
       "pontiac             1\n",
       "სხვა                1\n",
       "rolls-royce         1\n",
       "isuzu               1\n",
       "greatwall           1\n",
       "rover               1\n",
       "seat                1\n",
       "maserati            1\n",
       "Name: count, dtype: int64"
      ]
     },
     "execution_count": 42,
     "metadata": {},
     "output_type": "execute_result"
    }
   ],
   "source": [
    "train['Brand'] = train['Brand'].str.lower()\n",
    "train['Brand'] = train['Brand'].str.replace('i love ', '')\n",
    "train['Brand'] = train['Brand'].str.replace(' is the best', '')\n",
    "train.Brand.value_counts()"
   ]
  },
  {
   "cell_type": "code",
   "execution_count": 43,
   "metadata": {},
   "outputs": [],
   "source": [
    "train.loc[train['Brand'] == 'სხვა', 'Brand'] = 'gac'\n"
   ]
  },
  {
   "cell_type": "markdown",
   "metadata": {},
   "source": [
    "### Cleaning model"
   ]
  },
  {
   "cell_type": "code",
   "execution_count": 44,
   "metadata": {},
   "outputs": [
    {
     "data": {
      "text/plain": [
       "VehicleModel\n",
       "nan                      697\n",
       "Prius                    113\n",
       "Sonata                   104\n",
       "Elantra                   96\n",
       "FIT                       96\n",
       "                        ... \n",
       "Mazda 6 Grand Touring      1\n",
       "I own Clio.                1\n",
       "500 Abarth                 1\n",
       "I own Quest.               1\n",
       "I own X-type.              1\n",
       "Name: count, Length: 1481, dtype: int64"
      ]
     },
     "execution_count": 44,
     "metadata": {},
     "output_type": "execute_result"
    }
   ],
   "source": [
    "train.VehicleModel.value_counts()"
   ]
  },
  {
   "cell_type": "code",
   "execution_count": 45,
   "metadata": {},
   "outputs": [],
   "source": [
    "train.VehicleModel = train.VehicleModel.str.lower()\n",
    "to_remove = [\"i have the fastest model ever.. yes you got it right it's \", \"my model which is \", \" is the best\", \"i own \" ]\n",
    "for i in to_remove:\n",
    "    train[\"VehicleModel\"] = train[\"VehicleModel\"].str.replace(i, \"\")\n",
    "\n",
    "# for removing trailing dots\n",
    "train[\"VehicleModel\"] = train[\"VehicleModel\"].str.replace('.', \"\")\n",
    "\n",
    "# for removing non-ascii characters\n",
    "train[\"VehicleModel\"] = train[\"VehicleModel\"].str.replace(r'[^\\x00-\\x7F]', '', regex=True).str.strip()\n",
    "train.VehicleModel = train.VehicleModel.astype(str)\n",
    "\n",
    "# keep the first word only if it contains more then 1 word\n",
    "train.VehicleModel = train.VehicleModel.apply(lambda x: x.split()[0] if len(x.split()) > 1 else x)\n",
    "train.VehicleModel = train.VehicleModel.replace('nan', pd.NA)"
   ]
  },
  {
   "cell_type": "code",
   "execution_count": 46,
   "metadata": {},
   "outputs": [
    {
     "data": {
      "text/plain": [
       "VehicleModel\n",
       "prius       437\n",
       "sonata      369\n",
       "camry       341\n",
       "elantra     329\n",
       "e           255\n",
       "           ... \n",
       "coltplus      1\n",
       "rasheen       1\n",
       "stella        1\n",
       "c8            1\n",
       "x-type        1\n",
       "Name: count, Length: 429, dtype: int64"
      ]
     },
     "execution_count": 46,
     "metadata": {},
     "output_type": "execute_result"
    }
   ],
   "source": [
    "train.VehicleModel.value_counts()"
   ]
  },
  {
   "cell_type": "markdown",
   "metadata": {},
   "source": [
    "### Cleaning ManufacturingYear"
   ]
  },
  {
   "cell_type": "code",
   "execution_count": 47,
   "metadata": {},
   "outputs": [
    {
     "data": {
      "text/plain": [
       "array(['2017', 'nan', '2009', '2007', '3010', '1999', '2012', '2011',\n",
       "       '2014', '2015', '2006', '2105', '2013,', '2010', '2017{',\n",
       "       '1-1-2003', '2016', '1998', '2018', '2008', '2015+', '2012\"',\n",
       "       '2013', '2111', '1-1-2020', '2005', '2017*', '2004', '2016.',\n",
       "       '2015#', '1910', '2017&', '1914', '1-1-2013', '3009', '2009&',\n",
       "       '2018}', '14years old', '1-1-2014', '2001', '2015`', '2112',\n",
       "       '1997', '2014@', '1917', '2014+', '2013*', '1-1-2011', '1-1-2008',\n",
       "       '2012,', '2003', '1-1-2007', '15years old', '1916', '1-1-2012',\n",
       "       '1912', '2010~', '2020', '2002>', '2110', '2005>', '2115',\n",
       "       '1-1-2005', '2009%', '2019', '10years old', '1-1-2002', '2015@',\n",
       "       '3013', '1907', '2010*', '2000', '1996_', '12years old', '2011;',\n",
       "       '2017_', '13years old', '3014', '2017(', '2011,', '11years old',\n",
       "       '7years old', '1-1-2010', '3004', '1996|', '1913', '2014|',\n",
       "       '1-1-2016', '2016[', '1900', \"2009'\", '1902', '2117', '1-1-2009',\n",
       "       '8years old', '2118', '1999[', '1995', '6years old', '2113',\n",
       "       '3012', '2010!', '1915', '2002', '2016+', '2009,', '1-1-1998',\n",
       "       '9years old', '2014(', '1911', '1-1-2000', '2017\"', '2013@',\n",
       "       '2014?', '1-1-2017', '21years old', '2010|', '2116', '2011%',\n",
       "       '2098', '1-1-2001', '2007$', '2014/', '26years old', '1918',\n",
       "       '2114', '3008', '2016?', '2006\\\\', '2011(', '3006', '2014`',\n",
       "       '2001:', '1995/', '2006%', '2015*', '28years old', '2107', '2119',\n",
       "       '1908', '2002=', '2011.', '24years old', '1-1-2015', '1-1-1992',\n",
       "       '2008)', '2099', '20years old', '2013;', '1985', '1909', '3007',\n",
       "       '2003@', '1-1-2004', '2016^', '2016:', \"2003'\", '2103', '2011-',\n",
       "       '2014,', '2016/', '2014.', '2011?', '2015=', '23years old', '1905',\n",
       "       '1996', \"2011'\", '33years old', '1983', '2019}', '2007?', '2008?',\n",
       "       '2007[', '3011', '2013\"', '2104', '2007\"', '1998;', '2012&',\n",
       "       '3015', '2013?', '2010>', '2014&', '2006!', '1995?', '1992',\n",
       "       '2008|', '1904', '1993', '2008[', '2015~', '1-1-2006', '2013/',\n",
       "       '2010=', '2003;', '1-1-2019', '2008@', '2015}', '2018_', '2013=',\n",
       "       '2014\\\\', '2012_', '2013]', '2018#', \"2010'\", '17years old',\n",
       "       '2010&', '2010`', '2000[', '2015|', '2005_', '1994%', '1988',\n",
       "       '3017', '25years old', '1898', '2013+', '2012/', '2015)', '1992:',\n",
       "       '2014$', '1903', '3018', '2998', '2012@', '1-1-2018', '2010@',\n",
       "       '2015>', '2010^', '2013{', '2011{', '2012|', '1-1-1996', '2004$',\n",
       "       '3016', '2008}', '1-1-1997', '2002|', '2010:', '2005=', '2000?',\n",
       "       '2011`', '2012^', '19years old', '16years old', '2012~', '1982',\n",
       "       '2014!', '2007(', '1996#', '2011~', '1994', '29years old', '2108',\n",
       "       '1999<', '2005\\\\', '2005<', '2005]', '18years old', '2010(',\n",
       "       '2012-', '2011<', '2007%', '2014}', '2011)', '2017)', '2010)',\n",
       "       '2000\"', '2016`', \"1997'\", '2012(', '2012+', '2008/', '2012!',\n",
       "       \"2017'\", '2009-', '2009.', '2010+', '5years old', '2014]', '2106',\n",
       "       '3003', '2010[', '1896', '2008%', '2015:', '1-1-1995', '2100',\n",
       "       '2012{', '2016}', '1995\\\\', '2012=', '2007`', '2011_', '2012>',\n",
       "       '2012:', '1997<', '1893', '2015!', '2016\"', '1987', \"2016'\",\n",
       "       '2017?', '1-1-1999', '2011+', '2010$', '2001,', '2019[', '2012]',\n",
       "       '2011}', '1991', '2013|', '2003$', '22years old', '2001)', '1988[',\n",
       "       '2014*', '2008_', '2120', '2019]', '2013\\\\', '2012.', '1990',\n",
       "       '2014<', '2003_', '2000+', '2005:', '2016>', '2010}', '2009(',\n",
       "       '2009)', '2000>', '2001~', '2005+', '2003&', '2017$', '2018|',\n",
       "       '2002\"', '2010.', '2017\\\\', '1995!', '2016&', '2017^', '2015^',\n",
       "       '2000{', '2102', '2004{', '2004.', '2009}', '2017}', '3005',\n",
       "       '2016_', '2005%', '2011|', '2097', '31years old', '1999\\\\',\n",
       "       '2016)', '2015_', '1939', '2013&', '2015[', '2003=', \"2008'\",\n",
       "       '2011\\\\', '2012%', '2008;', '2011#', '2012$', '2015\\\\', '2000|',\n",
       "       '2011*', '2012[', '2004_', \"2013'\", '2013_', '2015.', '2016|',\n",
       "       '2011\"', '2015(', '1919', '1997`', '2014{', '2011^', '2008,',\n",
       "       '2018:', '2001_', '2006-', '2014[', '1-1-1993', '2096', '2007&',\n",
       "       '2007_', '2018^', '2016!', '2015,', '2016*', '2006}', '2101',\n",
       "       '2016%', '2018&', '2019-', '2007|', '2014_', '2999', '2011$',\n",
       "       '2013.', '2018{', '4years old', '2016<', '27years old', '1901',\n",
       "       '2017[', '2015$', '2014^', '2002-', '2016\\\\', '2014-', '1-1-1994',\n",
       "       '2007]', '2018,', '2012`', '2012\\\\', '1995{', '2006+', '2000~',\n",
       "       '2006.', '2001@', '2018~', '2013!', '2012}', '3019', '2003{',\n",
       "       '2007=', '2017=', '2018/', '71years old', '2013)', '3002', '2012?',\n",
       "       '2008-', '2003\"', '2011:', '2008&', '1995`', '2015%', '1986',\n",
       "       '2015-', '2006#', '2017|', '2017/', '2001{', '2005$', '1999_',\n",
       "       '2013#', '2012#', '2013$', '2013[', '2011[', '2014:', '1997=',\n",
       "       '2009*', '2016#', '3000', '2018+', '2002@', '2014\"', '2014#',\n",
       "       '1995*', '2009/', '2109', \"2019'\", '2005`', '2007,', '2016-',\n",
       "       \"2015'\", '2009;', '2008!', '40years old', '1997$', '1999\"',\n",
       "       '2010;', '1992]', '2002.', '1997~', '1920', '2009]', '2089',\n",
       "       '1999|', '2009@', '2003\\\\', '2013(', '1999+', '2018*', '2013-',\n",
       "       '2013%', '2008*', '2992', '2010#', '2018;', '1996^', '2012)',\n",
       "       '2008>', '2015/', '2011&', \"2002'\", '2003<', '2016{', '3001',\n",
       "       '2009|', '2000%', '2003#', '2018@', '2013>', '2017<', '1984',\n",
       "       '2017.', '2012<', '2013~', '2017;', '2018-', '2001`', '1906',\n",
       "       '2093', '1995.', \"2006'\", '2007}', \"2012'\", '2002$', '1978',\n",
       "       '2008^', '2010{', '2004(', '2007!', \"2018'\", '2011=', '2016;',\n",
       "       '2005;', '1998<', '2000-', '2005)', '2007*', '2010<', '2997',\n",
       "       '2016@', '1895', '2008#', '1992$', '2015{', '2015]', '2003)',\n",
       "       '2011]', '2019`', '2002\\\\', '1998)'], dtype=object)"
      ]
     },
     "execution_count": 47,
     "metadata": {},
     "output_type": "execute_result"
    }
   ],
   "source": [
    "list_of_unique = train.ManufacturingYear.unique()\n",
    "list_of_unique"
   ]
  },
  {
   "cell_type": "code",
   "execution_count": 48,
   "metadata": {},
   "outputs": [],
   "source": [
    "# 04-30-2020\n",
    "rows = train[train.ManufacturingYear.str.contains('years old', case=False, na=False)]\n",
    "# Replace \"years old\" with an empty string\n",
    "rows.ManufacturingYear = rows.ManufacturingYear.str.replace('years old' ,\"\" ).astype('int')\n",
    "rows.ManufacturingYear = 2024 - rows.ManufacturingYear\n",
    "train.update(rows)\n",
    "rows = train[train.ManufacturingYear.str.contains('-', case=False, na=False)]\n",
    "# Split the string by '-' and keep the last element \"Year\"\n",
    "rows.ManufacturingYear = rows.ManufacturingYear.str.split('-').apply(lambda x : x[-1])\n",
    "train.update(rows)\n",
    "train['ManufacturingYear'] = train['ManufacturingYear'].str.replace(r'\\D', '', regex=True)\n",
    "train['ManufacturingYear'] = pd.to_numeric(train['ManufacturingYear'] ,errors='coerce')"
   ]
  },
  {
   "cell_type": "code",
   "execution_count": 49,
   "metadata": {},
   "outputs": [
    {
     "data": {
      "text/plain": [
       "ManufacturingYear\n",
       "1893.0     1\n",
       "1895.0     1\n",
       "1896.0     3\n",
       "1898.0     4\n",
       "1900.0     5\n",
       "          ..\n",
       "3015.0    21\n",
       "3016.0    13\n",
       "3017.0     8\n",
       "3018.0     4\n",
       "3019.0     2\n",
       "Name: count, Length: 116, dtype: int64"
      ]
     },
     "execution_count": 49,
     "metadata": {},
     "output_type": "execute_result"
    }
   ],
   "source": [
    "train['ManufacturingYear'].value_counts().sort_index()"
   ]
  },
  {
   "cell_type": "markdown",
   "metadata": {},
   "source": [
    "There is unexpected values here, like 3019 and 1893"
   ]
  },
  {
   "cell_type": "code",
   "execution_count": 50,
   "metadata": {},
   "outputs": [],
   "source": [
    "train.loc[train.ManufacturingYear < 1980, 'ManufacturingYear'] += 100\n",
    "train.loc[train.ManufacturingYear > 3000, 'ManufacturingYear'] -= 1000\n",
    "train.loc[train.ManufacturingYear > 2024, 'ManufacturingYear'] -= 100\n",
    "\n",
    "train.loc[train.ManufacturingYear > 2024, 'ManufacturingYear'] = np.nan\n",
    "train.loc[train.ManufacturingYear < 1980, 'ManufacturingYear'] = np.nan"
   ]
  },
  {
   "cell_type": "code",
   "execution_count": 51,
   "metadata": {},
   "outputs": [
    {
     "data": {
      "text/plain": [
       "ManufacturingYear\n",
       "1982.0      1\n",
       "1983.0      3\n",
       "1984.0      1\n",
       "1985.0      2\n",
       "1986.0      1\n",
       "1987.0      2\n",
       "1988.0      3\n",
       "1989.0      1\n",
       "1990.0      6\n",
       "1991.0      3\n",
       "1992.0     15\n",
       "1993.0      7\n",
       "1994.0     11\n",
       "1995.0     36\n",
       "1996.0     28\n",
       "1997.0     41\n",
       "1998.0     65\n",
       "1999.0     57\n",
       "2000.0     85\n",
       "2001.0     72\n",
       "2002.0     97\n",
       "2003.0    119\n",
       "2004.0    114\n",
       "2005.0    118\n",
       "2006.0    104\n",
       "2007.0    151\n",
       "2008.0    232\n",
       "2009.0    170\n",
       "2010.0    467\n",
       "2011.0    514\n",
       "2012.0    642\n",
       "2013.0    587\n",
       "2014.0    638\n",
       "2015.0    432\n",
       "2016.0    380\n",
       "2017.0    245\n",
       "2018.0    112\n",
       "2019.0     66\n",
       "2020.0      9\n",
       "Name: count, dtype: int64"
      ]
     },
     "execution_count": 51,
     "metadata": {},
     "output_type": "execute_result"
    }
   ],
   "source": [
    "train['ManufacturingYear'].value_counts().sort_index()"
   ]
  },
  {
   "cell_type": "code",
   "execution_count": 52,
   "metadata": {},
   "outputs": [
    {
     "data": {
      "text/html": [
       "<div>\n",
       "<style scoped>\n",
       "    .dataframe tbody tr th:only-of-type {\n",
       "        vertical-align: middle;\n",
       "    }\n",
       "\n",
       "    .dataframe tbody tr th {\n",
       "        vertical-align: top;\n",
       "    }\n",
       "\n",
       "    .dataframe thead th {\n",
       "        text-align: right;\n",
       "    }\n",
       "</style>\n",
       "<table border=\"1\" class=\"dataframe\">\n",
       "  <thead>\n",
       "    <tr style=\"text-align: right;\">\n",
       "      <th></th>\n",
       "      <th>Brand</th>\n",
       "      <th>VehicleModel</th>\n",
       "      <th>Type</th>\n",
       "      <th>color</th>\n",
       "      <th>fuel</th>\n",
       "      <th>gearType</th>\n",
       "    </tr>\n",
       "  </thead>\n",
       "  <tbody>\n",
       "    <tr>\n",
       "      <th>count</th>\n",
       "      <td>7000</td>\n",
       "      <td>6303</td>\n",
       "      <td>7000</td>\n",
       "      <td>7000</td>\n",
       "      <td>7000</td>\n",
       "      <td>7000</td>\n",
       "    </tr>\n",
       "    <tr>\n",
       "      <th>unique</th>\n",
       "      <td>55</td>\n",
       "      <td>429</td>\n",
       "      <td>12</td>\n",
       "      <td>17</td>\n",
       "      <td>5</td>\n",
       "      <td>4</td>\n",
       "    </tr>\n",
       "    <tr>\n",
       "      <th>top</th>\n",
       "      <td>toyota</td>\n",
       "      <td>prius</td>\n",
       "      <td>sedan</td>\n",
       "      <td>nan</td>\n",
       "      <td>Gas</td>\n",
       "      <td>auto</td>\n",
       "    </tr>\n",
       "    <tr>\n",
       "      <th>freq</th>\n",
       "      <td>1246</td>\n",
       "      <td>437</td>\n",
       "      <td>2907</td>\n",
       "      <td>2124</td>\n",
       "      <td>3429</td>\n",
       "      <td>3423</td>\n",
       "    </tr>\n",
       "  </tbody>\n",
       "</table>\n",
       "</div>"
      ],
      "text/plain": [
       "         Brand VehicleModel   Type color  fuel gearType\n",
       "count     7000         6303   7000  7000  7000     7000\n",
       "unique      55          429     12    17     5        4\n",
       "top     toyota        prius  sedan   nan   Gas     auto\n",
       "freq      1246          437   2907  2124  3429     3423"
      ]
     },
     "execution_count": 52,
     "metadata": {},
     "output_type": "execute_result"
    }
   ],
   "source": [
    "train.describe(include='object')"
   ]
  },
  {
   "cell_type": "code",
   "execution_count": 53,
   "metadata": {},
   "outputs": [
    {
     "data": {
      "text/html": [
       "<div>\n",
       "<style scoped>\n",
       "    .dataframe tbody tr th:only-of-type {\n",
       "        vertical-align: middle;\n",
       "    }\n",
       "\n",
       "    .dataframe tbody tr th {\n",
       "        vertical-align: top;\n",
       "    }\n",
       "\n",
       "    .dataframe thead th {\n",
       "        text-align: right;\n",
       "    }\n",
       "</style>\n",
       "<table border=\"1\" class=\"dataframe\">\n",
       "  <thead>\n",
       "    <tr style=\"text-align: right;\">\n",
       "      <th></th>\n",
       "      <th>ID</th>\n",
       "      <th>ManufacturingYear</th>\n",
       "      <th>rating</th>\n",
       "      <th>Duty</th>\n",
       "      <th>CylinderCount</th>\n",
       "      <th>Odometer</th>\n",
       "      <th>airbags</th>\n",
       "      <th>price</th>\n",
       "    </tr>\n",
       "  </thead>\n",
       "  <tbody>\n",
       "    <tr>\n",
       "      <th>count</th>\n",
       "      <td>7000.000000</td>\n",
       "      <td>5637.000000</td>\n",
       "      <td>6310.000000</td>\n",
       "      <td>4422.000000</td>\n",
       "      <td>6282.000000</td>\n",
       "      <td>7.000000e+03</td>\n",
       "      <td>7000.000000</td>\n",
       "      <td>7000.000000</td>\n",
       "    </tr>\n",
       "    <tr>\n",
       "      <th>mean</th>\n",
       "      <td>9022.128714</td>\n",
       "      <td>2010.710662</td>\n",
       "      <td>2.559588</td>\n",
       "      <td>1835.184306</td>\n",
       "      <td>5.602674</td>\n",
       "      <td>1.589344e+06</td>\n",
       "      <td>6.719000</td>\n",
       "      <td>14406.866429</td>\n",
       "    </tr>\n",
       "    <tr>\n",
       "      <th>std</th>\n",
       "      <td>5202.316292</td>\n",
       "      <td>5.353890</td>\n",
       "      <td>1.905482</td>\n",
       "      <td>2823.558215</td>\n",
       "      <td>3.270880</td>\n",
       "      <td>5.018431e+07</td>\n",
       "      <td>3.592635</td>\n",
       "      <td>11747.617978</td>\n",
       "    </tr>\n",
       "    <tr>\n",
       "      <th>min</th>\n",
       "      <td>1.000000</td>\n",
       "      <td>1982.000000</td>\n",
       "      <td>-4.000000</td>\n",
       "      <td>87.000000</td>\n",
       "      <td>1.000000</td>\n",
       "      <td>0.000000e+00</td>\n",
       "      <td>1.000000</td>\n",
       "      <td>3.000000</td>\n",
       "    </tr>\n",
       "    <tr>\n",
       "      <th>25%</th>\n",
       "      <td>4546.750000</td>\n",
       "      <td>2009.000000</td>\n",
       "      <td>1.000000</td>\n",
       "      <td>640.000000</td>\n",
       "      <td>4.000000</td>\n",
       "      <td>7.453000e+04</td>\n",
       "      <td>4.000000</td>\n",
       "      <td>5018.000000</td>\n",
       "    </tr>\n",
       "    <tr>\n",
       "      <th>50%</th>\n",
       "      <td>9044.500000</td>\n",
       "      <td>2012.000000</td>\n",
       "      <td>2.000000</td>\n",
       "      <td>831.000000</td>\n",
       "      <td>4.000000</td>\n",
       "      <td>1.291280e+05</td>\n",
       "      <td>4.000000</td>\n",
       "      <td>12544.000000</td>\n",
       "    </tr>\n",
       "    <tr>\n",
       "      <th>75%</th>\n",
       "      <td>13523.250000</td>\n",
       "      <td>2014.000000</td>\n",
       "      <td>4.000000</td>\n",
       "      <td>1211.000000</td>\n",
       "      <td>6.000000</td>\n",
       "      <td>1.904135e+05</td>\n",
       "      <td>12.000000</td>\n",
       "      <td>20071.000000</td>\n",
       "    </tr>\n",
       "    <tr>\n",
       "      <th>max</th>\n",
       "      <td>18013.000000</td>\n",
       "      <td>2020.000000</td>\n",
       "      <td>10.000000</td>\n",
       "      <td>12455.000000</td>\n",
       "      <td>18.000000</td>\n",
       "      <td>2.147484e+09</td>\n",
       "      <td>12.000000</td>\n",
       "      <td>49889.000000</td>\n",
       "    </tr>\n",
       "  </tbody>\n",
       "</table>\n",
       "</div>"
      ],
      "text/plain": [
       "                 ID  ManufacturingYear       rating          Duty  \\\n",
       "count   7000.000000        5637.000000  6310.000000   4422.000000   \n",
       "mean    9022.128714        2010.710662     2.559588   1835.184306   \n",
       "std     5202.316292           5.353890     1.905482   2823.558215   \n",
       "min        1.000000        1982.000000    -4.000000     87.000000   \n",
       "25%     4546.750000        2009.000000     1.000000    640.000000   \n",
       "50%     9044.500000        2012.000000     2.000000    831.000000   \n",
       "75%    13523.250000        2014.000000     4.000000   1211.000000   \n",
       "max    18013.000000        2020.000000    10.000000  12455.000000   \n",
       "\n",
       "       CylinderCount      Odometer      airbags         price  \n",
       "count    6282.000000  7.000000e+03  7000.000000   7000.000000  \n",
       "mean        5.602674  1.589344e+06     6.719000  14406.866429  \n",
       "std         3.270880  5.018431e+07     3.592635  11747.617978  \n",
       "min         1.000000  0.000000e+00     1.000000      3.000000  \n",
       "25%         4.000000  7.453000e+04     4.000000   5018.000000  \n",
       "50%         4.000000  1.291280e+05     4.000000  12544.000000  \n",
       "75%         6.000000  1.904135e+05    12.000000  20071.000000  \n",
       "max        18.000000  2.147484e+09    12.000000  49889.000000  "
      ]
     },
     "execution_count": 53,
     "metadata": {},
     "output_type": "execute_result"
    }
   ],
   "source": [
    "train.describe()"
   ]
  },
  {
   "cell_type": "markdown",
   "metadata": {},
   "source": [
    "## Handling Outliers & NaNs\n"
   ]
  },
  {
   "cell_type": "markdown",
   "metadata": {},
   "source": [
    "### ManufacturingYear"
   ]
  },
  {
   "cell_type": "code",
   "execution_count": 54,
   "metadata": {},
   "outputs": [
    {
     "data": {
      "text/plain": [
       "<Axes: xlabel='ManufacturingYear'>"
      ]
     },
     "execution_count": 54,
     "metadata": {},
     "output_type": "execute_result"
    },
    {
     "data": {
      "image/png": "[encoded data removed]",
      "text/plain": [
       "<Figure size 640x480 with 1 Axes>"
      ]
     },
     "metadata": {},
     "output_type": "display_data"
    }
   ],
   "source": [
    "sns.boxenplot(x=train.ManufacturingYear)"
   ]
  },
  {
   "cell_type": "code",
   "execution_count": 55,
   "metadata": {},
   "outputs": [
    {
     "data": {
      "text/plain": [
       "ManufacturingYear\n",
       "2012.0    642\n",
       "2014.0    638\n",
       "2013.0    587\n",
       "2011.0    514\n",
       "2010.0    467\n",
       "2015.0    432\n",
       "2016.0    380\n",
       "2017.0    245\n",
       "2008.0    232\n",
       "2009.0    170\n",
       "2007.0    151\n",
       "2003.0    119\n",
       "2005.0    118\n",
       "2004.0    114\n",
       "2018.0    112\n",
       "2006.0    104\n",
       "2002.0     97\n",
       "2000.0     85\n",
       "2001.0     72\n",
       "2019.0     66\n",
       "1998.0     65\n",
       "1999.0     57\n",
       "1997.0     41\n",
       "1995.0     36\n",
       "1996.0     28\n",
       "1992.0     15\n",
       "1994.0     11\n",
       "2020.0      9\n",
       "1993.0      7\n",
       "1990.0      6\n",
       "1983.0      3\n",
       "1988.0      3\n",
       "1991.0      3\n",
       "1985.0      2\n",
       "1987.0      2\n",
       "1982.0      1\n",
       "1986.0      1\n",
       "1989.0      1\n",
       "1984.0      1\n",
       "Name: count, dtype: int64"
      ]
     },
     "execution_count": 55,
     "metadata": {},
     "output_type": "execute_result"
    }
   ],
   "source": [
    "train.ManufacturingYear.value_counts()"
   ]
  },
  {
   "cell_type": "code",
   "execution_count": 56,
   "metadata": {},
   "outputs": [
    {
     "data": {
      "text/plain": [
       "1363"
      ]
     },
     "execution_count": 56,
     "metadata": {},
     "output_type": "execute_result"
    }
   ],
   "source": [
    "train.ManufacturingYear.isnull().sum()"
   ]
  },
  {
   "cell_type": "code",
   "execution_count": 57,
   "metadata": {},
   "outputs": [],
   "source": [
    "train.ManufacturingYear.fillna(train.ManufacturingYear.median(), inplace=True)"
   ]
  },
  {
   "cell_type": "code",
   "execution_count": 58,
   "metadata": {},
   "outputs": [
    {
     "data": {
      "text/plain": [
       "0"
      ]
     },
     "execution_count": 58,
     "metadata": {},
     "output_type": "execute_result"
    }
   ],
   "source": [
    "train.ManufacturingYear.isnull().sum()"
   ]
  },
  {
   "cell_type": "markdown",
   "metadata": {},
   "source": [
    "### CylinderCount"
   ]
  },
  {
   "cell_type": "code",
   "execution_count": 59,
   "metadata": {},
   "outputs": [
    {
     "data": {
      "text/plain": [
       "<Axes: xlabel='CylinderCount'>"
      ]
     },
     "execution_count": 59,
     "metadata": {},
     "output_type": "execute_result"
    },
    {
     "data": {
      "image/png": "[encoded data removed]",
      "text/plain": [
       "<Figure size 640x480 with 1 Axes>"
      ]
     },
     "metadata": {},
     "output_type": "display_data"
    }
   ],
   "source": [
    "sns.boxenplot(x=train.CylinderCount)"
   ]
  },
  {
   "cell_type": "code",
   "execution_count": 60,
   "metadata": {},
   "outputs": [
    {
     "data": {
      "text/plain": [
       "718"
      ]
     },
     "execution_count": 60,
     "metadata": {},
     "output_type": "execute_result"
    }
   ],
   "source": [
    "train.CylinderCount.isnull().sum()  "
   ]
  },
  {
   "cell_type": "code",
   "execution_count": 61,
   "metadata": {},
   "outputs": [
    {
     "data": {
      "text/plain": [
       "0"
      ]
     },
     "execution_count": 61,
     "metadata": {},
     "output_type": "execute_result"
    }
   ],
   "source": [
    "train.CylinderCount.fillna(train.CylinderCount.mode()[0], inplace=True)\n",
    "train.CylinderCount.isnull().sum()  "
   ]
  },
  {
   "cell_type": "markdown",
   "metadata": {},
   "source": [
    "### Model"
   ]
  },
  {
   "cell_type": "code",
   "execution_count": 62,
   "metadata": {},
   "outputs": [
    {
     "data": {
      "text/plain": [
       "697"
      ]
     },
     "execution_count": 62,
     "metadata": {},
     "output_type": "execute_result"
    }
   ],
   "source": [
    "train.VehicleModel.isnull().sum()"
   ]
  },
  {
   "cell_type": "code",
   "execution_count": 63,
   "metadata": {},
   "outputs": [
    {
     "data": {
      "text/plain": [
       "0"
      ]
     },
     "execution_count": 63,
     "metadata": {},
     "output_type": "execute_result"
    }
   ],
   "source": [
    "def fill_missing_model(train):\n",
    "    train['VehicleModel'] = train['VehicleModel'].replace('nan', pd.NA)\n",
    "    to_fill_VehicleModel = train.groupby(['Brand', 'CylinderCount', 'capacity'])['VehicleModel']\n",
    "    # Fill missing values with the mode of the group\n",
    "    train['VehicleModel'] = to_fill_VehicleModel.transform(lambda x: x.fillna(x.mode().iloc[0] if not x.mode().empty else 'unknown'))\n",
    "    return train\n",
    "train = fill_missing_model(train)\n",
    "train.VehicleModel.isnull().sum()\n"
   ]
  },
  {
   "cell_type": "markdown",
   "metadata": {},
   "source": [
    "### Brand"
   ]
  },
  {
   "cell_type": "code",
   "execution_count": 64,
   "metadata": {},
   "outputs": [
    {
     "name": "stdout",
     "output_type": "stream",
     "text": [
      "706\n"
     ]
    },
    {
     "data": {
      "text/plain": [
       "0"
      ]
     },
     "execution_count": 64,
     "metadata": {},
     "output_type": "execute_result"
    }
   ],
   "source": [
    "def fill_missing_brand(data):\n",
    "    data['Brand'] = data['Brand'].replace('nan', pd.NA)\n",
    "    print(data['Brand'].isnull().sum())\n",
    "    to_fill_brands = data.groupby('VehicleModel')['Brand']\n",
    "\n",
    "    # Fill missing values with the mode of the group\n",
    "    data['Brand'] = to_fill_brands.transform(lambda x: x.fillna(x.mode().iloc[0] if not x.mode().empty else 'unknown'))\n",
    "    return data\n",
    "train = fill_missing_brand(train)\n",
    "train.Brand.isnull().sum()"
   ]
  },
  {
   "cell_type": "markdown",
   "metadata": {},
   "source": [
    "### Types"
   ]
  },
  {
   "cell_type": "code",
   "execution_count": 65,
   "metadata": {},
   "outputs": [
    {
     "name": "stdout",
     "output_type": "stream",
     "text": [
      "685\n"
     ]
    },
    {
     "data": {
      "text/plain": [
       "0"
      ]
     },
     "execution_count": 65,
     "metadata": {},
     "output_type": "execute_result"
    }
   ],
   "source": [
    "def fill_missing_types(data):\n",
    "    data['Type'] = data['Type'].replace('nan', pd.NA)\n",
    "    print(data['Type'].isnull().sum())\n",
    "    to_fill_types = data.groupby(['Brand', 'VehicleModel'])['Type']\n",
    "    data['Type'] = to_fill_types.transform(lambda x: x.fillna(x.mode().iloc[0] if not x.mode().empty else 'unknown'))\n",
    "    return data\n",
    "train = fill_missing_types(train)\n",
    "train.Type.isnull().sum()"
   ]
  },
  {
   "cell_type": "markdown",
   "metadata": {},
   "source": [
    "### Fuel"
   ]
  },
  {
   "cell_type": "code",
   "execution_count": 66,
   "metadata": {},
   "outputs": [
    {
     "name": "stdout",
     "output_type": "stream",
     "text": [
      "696\n"
     ]
    },
    {
     "data": {
      "text/plain": [
       "0"
      ]
     },
     "execution_count": 66,
     "metadata": {},
     "output_type": "execute_result"
    }
   ],
   "source": [
    "# cleaning fuel column\n",
    "def fill_manipulate_fuel(data):\n",
    "    # Convert fuel to lowercase\n",
    "    data['fuel'] = data['fuel'].str.lower()\n",
    "    \n",
    "    data['fuel'].replace('nan', pd.NA, inplace=True)\n",
    "    print(data['fuel'].isnull().sum())\n",
    "    # Group by 'Brand', 'VehicleModel', and 'Type' and calculate the mode for 'fuel'\n",
    "    to_fill_fuel = data.groupby(['Brand', 'VehicleModel', 'Type'])['fuel']\n",
    "    \n",
    "    # Fill missing values with the mode within each group\n",
    "    data['fuel'] = to_fill_fuel.transform(lambda x: x.fillna(x.mode().iloc[0] if not x.mode().empty else 'other'))\n",
    "    data['fuel'] = data['fuel'].astype('category')\n",
    "    return data\n",
    "train = fill_manipulate_fuel(train)\n",
    "train.fuel.isnull().sum()"
   ]
  },
  {
   "cell_type": "markdown",
   "metadata": {},
   "source": [
    "### airbags"
   ]
  },
  {
   "cell_type": "code",
   "execution_count": 67,
   "metadata": {},
   "outputs": [
    {
     "data": {
      "text/plain": [
       "<Axes: xlabel='airbags'>"
      ]
     },
     "execution_count": 67,
     "metadata": {},
     "output_type": "execute_result"
    },
    {
     "data": {
      "image/png": "[encoded data removed]",
      "text/plain": [
       "<Figure size 640x480 with 1 Axes>"
      ]
     },
     "metadata": {},
     "output_type": "display_data"
    }
   ],
   "source": [
    "sns.boxenplot(x=train.airbags)"
   ]
  },
  {
   "cell_type": "code",
   "execution_count": 68,
   "metadata": {},
   "outputs": [
    {
     "data": {
      "text/plain": [
       "airbags\n",
       "4     3378\n",
       "12    1852\n",
       "8      545\n",
       "6      455\n",
       "2      357\n",
       "10     270\n",
       "5       34\n",
       "1       33\n",
       "7       30\n",
       "9       19\n",
       "11      16\n",
       "3       11\n",
       "Name: count, dtype: int64"
      ]
     },
     "execution_count": 68,
     "metadata": {},
     "output_type": "execute_result"
    }
   ],
   "source": [
    "train.airbags.value_counts()"
   ]
  },
  {
   "cell_type": "code",
   "execution_count": 69,
   "metadata": {},
   "outputs": [],
   "source": [
    "train.airbags.fillna(train.airbags.mode()[0], inplace=True)"
   ]
  },
  {
   "cell_type": "markdown",
   "metadata": {},
   "source": [
    "### Price"
   ]
  },
  {
   "cell_type": "code",
   "execution_count": 70,
   "metadata": {},
   "outputs": [
    {
     "data": {
      "text/plain": [
       "<Axes: xlabel='Type'>"
      ]
     },
     "execution_count": 70,
     "metadata": {},
     "output_type": "execute_result"
    },
    {
     "data": {
      "image/png": "[encoded data removed]",
      "text/plain": [
       "<Figure size 640x480 with 1 Axes>"
      ]
     },
     "metadata": {},
     "output_type": "display_data"
    }
   ],
   "source": [
    "mean_prices_of_cars = train.groupby('Type')['price'].mean()\n",
    "mean_prices_of_cars.plot(kind='bar')"
   ]
  },
  {
   "cell_type": "markdown",
   "metadata": {},
   "source": [
    "### rating"
   ]
  },
  {
   "cell_type": "code",
   "execution_count": 71,
   "metadata": {},
   "outputs": [
    {
     "data": {
      "text/plain": [
       "rating\n",
       " 2.0     1248\n",
       " 3.0     1175\n",
       " 1.0      935\n",
       " 4.0      925\n",
       " 0.0      857\n",
       " 5.0      609\n",
       " 6.0      274\n",
       "-1.0      108\n",
       " 7.0       94\n",
       " 8.0       35\n",
       "-2.0       30\n",
       "-3.0       11\n",
       " 9.0        7\n",
       " 10.0       1\n",
       "-4.0        1\n",
       "Name: count, dtype: int64"
      ]
     },
     "execution_count": 71,
     "metadata": {},
     "output_type": "execute_result"
    }
   ],
   "source": [
    "train.rating.value_counts()\n"
   ]
  },
  {
   "cell_type": "code",
   "execution_count": 72,
   "metadata": {},
   "outputs": [
    {
     "data": {
      "text/plain": [
       "count    6310.000000\n",
       "mean        2.624564\n",
       "std         1.814927\n",
       "min         0.000000\n",
       "25%         1.000000\n",
       "50%         2.000000\n",
       "75%         4.000000\n",
       "max        10.000000\n",
       "Name: rating, dtype: float64"
      ]
     },
     "execution_count": 72,
     "metadata": {},
     "output_type": "execute_result"
    }
   ],
   "source": [
    "train.rating = abs(train.rating)\n",
    "train.rating.describe()"
   ]
  },
  {
   "cell_type": "code",
   "execution_count": 73,
   "metadata": {},
   "outputs": [
    {
     "data": {
      "image/png": "[encoded data removed]",
      "text/plain": [
       "<Figure size 640x480 with 1 Axes>"
      ]
     },
     "metadata": {},
     "output_type": "display_data"
    }
   ],
   "source": [
    "sns.boxenplot(x=train.rating)\n",
    "plt.show()"
   ]
  },
  {
   "cell_type": "code",
   "execution_count": 74,
   "metadata": {},
   "outputs": [
    {
     "data": {
      "text/plain": [
       "690"
      ]
     },
     "execution_count": 74,
     "metadata": {},
     "output_type": "execute_result"
    }
   ],
   "source": [
    "train.rating.isnull().sum()"
   ]
  },
  {
   "cell_type": "markdown",
   "metadata": {},
   "source": [
    "### fuel"
   ]
  },
  {
   "cell_type": "code",
   "execution_count": 75,
   "metadata": {},
   "outputs": [
    {
     "data": {
      "text/plain": [
       "fuel\n",
       "gas       3728\n",
       "dies      1444\n",
       "hybrid    1444\n",
       "other      384\n",
       "Name: count, dtype: int64"
      ]
     },
     "execution_count": 75,
     "metadata": {},
     "output_type": "execute_result"
    }
   ],
   "source": [
    "train.fuel.value_counts()"
   ]
  },
  {
   "cell_type": "markdown",
   "metadata": {},
   "source": [
    "### capacity"
   ]
  },
  {
   "cell_type": "code",
   "execution_count": 76,
   "metadata": {},
   "outputs": [
    {
     "data": {
      "text/plain": [
       "count     7000\n",
       "unique      87\n",
       "top          2\n",
       "freq      1261\n",
       "Name: capacity, dtype: object"
      ]
     },
     "execution_count": 76,
     "metadata": {},
     "output_type": "execute_result"
    }
   ],
   "source": [
    "train.capacity.describe()"
   ]
  },
  {
   "cell_type": "code",
   "execution_count": 77,
   "metadata": {},
   "outputs": [
    {
     "data": {
      "text/plain": [
       "0"
      ]
     },
     "execution_count": 77,
     "metadata": {},
     "output_type": "execute_result"
    }
   ],
   "source": [
    "train.capacity.isnull().sum()"
   ]
  },
  {
   "cell_type": "markdown",
   "metadata": {},
   "source": [
    "### gearType"
   ]
  },
  {
   "cell_type": "code",
   "execution_count": 78,
   "metadata": {},
   "outputs": [
    {
     "data": {
      "text/plain": [
       "gearType\n",
       "auto      3423\n",
       "manual    1657\n",
       "others    1228\n",
       "nan        692\n",
       "Name: count, dtype: int64"
      ]
     },
     "execution_count": 78,
     "metadata": {},
     "output_type": "execute_result"
    }
   ],
   "source": [
    "train.gearType.value_counts()"
   ]
  },
  {
   "cell_type": "markdown",
   "metadata": {},
   "source": [
    "### Fast Cleaning the rest of columns"
   ]
  },
  {
   "cell_type": "code",
   "execution_count": 79,
   "metadata": {},
   "outputs": [],
   "source": [
    "# cleaning rating column\n",
    "train.rating.fillna(train.rating.median(), inplace=True)\n",
    "\n",
    "# cleaning Duty column\n",
    "train.Duty.fillna(0, inplace=True)\n",
    "\n",
    "# cleaning gearType column\n",
    "train.gearType.fillna('others', inplace=True)\n",
    "\n",
    "# cleaning airbags column\n",
    "train.airbags.fillna(train.airbags.mode()[0], inplace=True)\n",
    "\n",
    "# cleaning color column\n",
    "train.color.fillna('other', inplace=True)\n"
   ]
  },
  {
   "cell_type": "markdown",
   "metadata": {},
   "source": [
    "## Pre-Processing Pipeline "
   ]
  },
  {
   "cell_type": "code",
   "execution_count": 80,
   "metadata": {},
   "outputs": [],
   "source": [
    "def cleaning(train):\n",
    "    for col in train.columns[train.dtypes == 'object']:\n",
    "        train[col] = train[col].astype('str')\n",
    "    \n",
    "    # renaming columns\n",
    "    train.rename(columns={'#airbags': 'airbags',\n",
    "                      'type of gear': 'gearType'}, inplace=True)\n",
    "    \n",
    "    # cleaning Type column \n",
    "    def clean_Type(TypeCol):\n",
    "        TypeCol = TypeCol.str.lower()\n",
    "        TypeCol = TypeCol.str.strip()\n",
    "        list_of_mapping = ['sedan', 'minivan', 'hatchback', 'pickup', 'jeep', 'microbus', 'coupe', 'universal', 'goods wagon', 'cabriolet', 'limousine']\n",
    "        def clean_value(value, standard_values, threshold=80):\n",
    "            if pd.isna(value):\n",
    "                return value\n",
    "            best_match = process.extractOne(value, standard_values, scorer=fuzz.token_sort_ratio)\n",
    "            if best_match[1] >= threshold:\n",
    "                return best_match[0]\n",
    "            return value\n",
    "        TypeCol = TypeCol.apply(lambda x: clean_value(x, list_of_mapping))\n",
    "        TypeCol = TypeCol.str.replace('woow ', '')\n",
    "        return TypeCol\n",
    "    train['Type'] = clean_Type(train['Type'])\n",
    "\n",
    "    # cleaning capacity column\n",
    "    train.capacity = train.capacity.astype('category')\n",
    "\n",
    "    # cleaning airbags column\n",
    "    train['airbags'] = train['airbags'].str.replace(r'\\D', '', regex=True).astype(int)\n",
    "    train['airbags'] = abs(train['airbags'])\n",
    "    train.loc[(train['airbags'] > 12) | (train['airbags'] <= 0), 'airbags'] = 4\n",
    "\n",
    "    # cleaning fuel column\n",
    "    maps = {\"others\": \"other\",\n",
    "       \"Natural Gas\":\"Gas\",\n",
    "       'Electric Hybrid': 'Hybrid',\n",
    "       \"hyb\": \"Hybrid\"}\n",
    "    train.fuel = train.fuel.replace(maps)\n",
    "\n",
    "    # cleaning gearType column\n",
    "    train.gearType = train.gearType.str.lower()\n",
    "    train.gearType.replace('r', 'manual', inplace=True)\n",
    "    train.gearType.replace('gear', 'manual', inplace=True)\n",
    "\n",
    "    # cleaning rating column\n",
    "    train.rating = abs(train.rating)\n",
    "\n",
    "    # delete word \"cyl\" \n",
    "    train.CylinderCount = train.CylinderCount.apply(lambda x: x.replace('cyl',''))\n",
    "    train.CylinderCount = train.CylinderCount.str.strip()\n",
    "    train.CylinderCount = train.CylinderCount.astype(float)\n",
    "    train.loc[train.CylinderCount == 0, 'CylinderCount'] = np.nan\n",
    "\n",
    "    # cleaning Odometer column\n",
    "    train.Odometer = train.Odometer.str.replace(r'\\D', '', regex=True).astype(float)\n",
    "\n",
    "    # cleaning Duty column\n",
    "    train.Duty = train.Duty.str.strip()\n",
    "    train.Duty.replace('-', np.nan, inplace=True)\n",
    "    train.Duty = train.Duty.str.replace(r'\\D', '', regex=True)\n",
    "    train['Duty'] = train['Duty'].replace(r'^\\s*$', np.nan, regex=True).astype(float)\n",
    "\n",
    "    # cleaning Brand column    \n",
    "    train['Brand'] = train['Brand'].str.lower()\n",
    "    train['Brand'] = train['Brand'].str.replace('i love ', '')\n",
    "    train['Brand'] = train['Brand'].str.replace(' is the best', '')\n",
    "    train.loc[train['Brand'] == 'სხვა', 'Brand'] = 'gac'\n",
    "\n",
    "    # cleaning model\n",
    "    train.VehicleModel = train.VehicleModel.str.lower()\n",
    "    to_remove = [\"i have the fastest model ever.. yes you got it right it's \", \"my model which is \", \" is the best\", \"i own \" ]\n",
    "    for i in to_remove:\n",
    "        train[\"VehicleModel\"] = train[\"VehicleModel\"].str.replace(i, \"\")\n",
    "\n",
    "    # for removing trailing dots\n",
    "    train[\"VehicleModel\"] = train[\"VehicleModel\"].str.replace('.', \"\")\n",
    "\n",
    "    # for removing non-ascii characters\n",
    "    train[\"VehicleModel\"] = train[\"VehicleModel\"].str.replace(r'[^\\x00-\\x7F]', '', regex=True).str.strip()\n",
    "    train.VehicleModel = train.VehicleModel.astype(str)\n",
    "\n",
    "    # keep the first word only if it contains more then 1 word\n",
    "    train.VehicleModel = train.VehicleModel.apply(lambda x: x.split()[0] if len(x.split()) > 1 else x)\n",
    "    train.VehicleModel = train.VehicleModel.replace('nan', pd.NA)\n",
    "\n",
    "    # cleaning ManufacturingYear column\n",
    "    rows = train[train.ManufacturingYear.str.contains('years old', case=False, na=False)]\n",
    "    rows.ManufacturingYear = rows.ManufacturingYear.str.replace('years old' ,\"\" ).astype('int')\n",
    "    rows.ManufacturingYear = 2024 - rows.ManufacturingYear\n",
    "    train.update(rows)\n",
    "    rows = train[train.ManufacturingYear.str.contains('-', case=False, na=False)]\n",
    "    rows.ManufacturingYear = rows.ManufacturingYear.str.split('-').apply(lambda x : x[-1])\n",
    "    train.update(rows)\n",
    "    train['ManufacturingYear'] = train['ManufacturingYear'].str.replace(r'\\D', '', regex=True)\n",
    "    train['ManufacturingYear'] = pd.to_numeric(train['ManufacturingYear'] ,errors='coerce')\n",
    "\n",
    "    train.loc[train.ManufacturingYear < 1980, 'ManufacturingYear'] += 100\n",
    "    train.loc[train.ManufacturingYear > 3000, 'ManufacturingYear'] -= 1000\n",
    "    train.loc[train.ManufacturingYear > 2024, 'ManufacturingYear'] -= 100\n",
    "\n",
    "    train.loc[train.ManufacturingYear > 2024, 'ManufacturingYear'] = np.nan\n",
    "    train.loc[train.ManufacturingYear < 1980, 'ManufacturingYear'] = np.nan\n",
    "    return train\n",
    "\n",
    "def outlier_and_missing(train, test):\n",
    "\n",
    "    # cleaning ManufacturingYear column\n",
    "    train.ManufacturingYear.fillna(train.ManufacturingYear.median(), inplace=True)\n",
    "    test.ManufacturingYear.fillna(train.ManufacturingYear.median(), inplace=True)\n",
    "\n",
    "    # cleaning CylinderCount column\n",
    "    train.CylinderCount.fillna(train.CylinderCount.mode()[0], inplace=True)\n",
    "    test.CylinderCount.fillna(train.CylinderCount.mode()[0], inplace=True)\n",
    "    \n",
    "    # cleaning model column\n",
    "    def fill_missing_model(train):\n",
    "        train['VehicleModel'] = train['VehicleModel'].replace('nan', pd.NA)\n",
    "        to_fill_VehicleModel = train.groupby(['Brand', 'CylinderCount', 'capacity'])['VehicleModel']\n",
    "        train['VehicleModel'] = to_fill_VehicleModel.transform(lambda x: x.fillna(x.mode().iloc[0] if not x.mode().empty else 'unknown'))\n",
    "        return train\n",
    "    train = fill_missing_model(train)\n",
    "    test = fill_missing_model(test)\n",
    "    \n",
    "    def fill_missing_brand(data):\n",
    "        data['Brand'] = data['Brand'].replace('nan', pd.NA)\n",
    "        to_fill_brands = data.groupby('VehicleModel')['Brand']\n",
    "        data['Brand'] = to_fill_brands.transform(lambda x: x.fillna(x.mode().iloc[0] if not x.mode().empty else 'unknown'))\n",
    "        return data\n",
    "    train = fill_missing_brand(train)\n",
    "    test = fill_missing_brand(test)\n",
    "\n",
    "    # cleaning Type column\n",
    "    def fill_missing_types(data):\n",
    "        data['Type'] = data['Type'].replace('nan', pd.NA)\n",
    "        to_fill_types = data.groupby(['Brand', 'VehicleModel'])['Type']\n",
    "        data['Type'] = to_fill_types.transform(lambda x: x.fillna(x.mode().iloc[0] if not x.mode().empty else 'unknown'))\n",
    "        return data\n",
    "    train = fill_missing_types(train)\n",
    "    test = fill_missing_types(test)\n",
    "    \n",
    "    # cleaning rating column\n",
    "    train.rating.fillna(train.rating.median(), inplace=True)\n",
    "    test.rating.fillna(train.rating.median(), inplace=True)\n",
    "\n",
    "    # cleaning fuel column\n",
    "    def fill_manipulate_fuel(data):\n",
    "        # Convert fuel to lowercase\n",
    "        data['fuel'] = data['fuel'].str.lower()\n",
    "        \n",
    "        # Replace 'nan' with actual missing values\n",
    "        data['fuel'].replace('nan', pd.NA, inplace=True)\n",
    "        \n",
    "        # Group by 'Brand', 'VehicleModel', and 'Type' and calculate the mode for 'fuel'\n",
    "        to_fill_fuel = data.groupby(['Brand', 'VehicleModel', 'Type'])['fuel']\n",
    "        \n",
    "        # Fill missing values with the mode within each group\n",
    "        data['fuel'] = to_fill_fuel.transform(lambda x: x.fillna(x.mode().iloc[0] if not x.mode().empty else 'other'))\n",
    "        data['fuel'] = data['fuel'].astype('category')\n",
    "        return data\n",
    "    train = fill_manipulate_fuel(train)\n",
    "    test = fill_manipulate_fuel(test)\n",
    "\n",
    "    # cleaning Duty column\n",
    "    train.Duty.fillna(0, inplace=True)\n",
    "    test.Duty.fillna(0, inplace=True)\n",
    "\n",
    "    # cleaning gearType column\n",
    "    train.gearType.fillna('others', inplace=True)\n",
    "    test.gearType.fillna('others', inplace=True)\n",
    "    \n",
    "    # cleaning airbags column\n",
    "    train.airbags.fillna(train.airbags.mode()[0], inplace=True)\n",
    "    test.airbags.fillna(train.airbags.mode()[0], inplace=True)\n",
    "\n",
    "    # cleaning color column\n",
    "    train.color.fillna('other', inplace=True)\n",
    "    test.color.fillna('other', inplace=True)\n",
    "\n",
    "    return train, test\n"
   ]
  },
  {
   "cell_type": "code",
   "execution_count": 81,
   "metadata": {},
   "outputs": [],
   "source": [
    "train = pd.read_csv('train.csv')\n",
    "test = pd.read_csv('test.csv')\n",
    "\n",
    "train = cleaning(train)\n",
    "test = cleaning(test)\n",
    "\n",
    "train, test = outlier_and_missing(train, test)"
   ]
  },
  {
   "cell_type": "code",
   "execution_count": 82,
   "metadata": {},
   "outputs": [
    {
     "data": {
      "image/png": "[encoded data removed]",
      "text/plain": [
       "<Figure size 1000x1000 with 2 Axes>"
      ]
     },
     "metadata": {},
     "output_type": "display_data"
    }
   ],
   "source": [
    "numerical_features = train.select_dtypes(include=['float64', 'int64','int32']).columns.tolist()\n",
    "correlation = train[numerical_features].corr()\n",
    "\n",
    "plt.figure(figsize=(10, 10))\n",
    "sns.heatmap(correlation, annot=True, cmap='coolwarm')\n",
    "plt.show()"
   ]
  },
  {
   "cell_type": "code",
   "execution_count": 87,
   "metadata": {},
   "outputs": [
    {
     "data": {
      "text/html": [
       "<div>\n",
       "<style scoped>\n",
       "    .dataframe tbody tr th:only-of-type {\n",
       "        vertical-align: middle;\n",
       "    }\n",
       "\n",
       "    .dataframe tbody tr th {\n",
       "        vertical-align: top;\n",
       "    }\n",
       "\n",
       "    .dataframe thead th {\n",
       "        text-align: right;\n",
       "    }\n",
       "</style>\n",
       "<table border=\"1\" class=\"dataframe\">\n",
       "  <thead>\n",
       "    <tr style=\"text-align: right;\">\n",
       "      <th></th>\n",
       "      <th>Brand_acura</th>\n",
       "      <th>Brand_alfa romeo</th>\n",
       "      <th>Brand_audi</th>\n",
       "      <th>Brand_bmw</th>\n",
       "      <th>Brand_buick</th>\n",
       "      <th>Brand_cadillac</th>\n",
       "      <th>Brand_chevrolet</th>\n",
       "      <th>Brand_chrysler</th>\n",
       "      <th>Brand_citroen</th>\n",
       "      <th>Brand_daewoo</th>\n",
       "      <th>...</th>\n",
       "      <th>capacity_5.7</th>\n",
       "      <th>capacity_5.9</th>\n",
       "      <th>capacity_6.2</th>\n",
       "      <th>capacity_6.3</th>\n",
       "      <th>capacity_6.7</th>\n",
       "      <th>ManufacturingYear</th>\n",
       "      <th>Duty</th>\n",
       "      <th>CylinderCount</th>\n",
       "      <th>Odometer</th>\n",
       "      <th>airbags</th>\n",
       "    </tr>\n",
       "  </thead>\n",
       "  <tbody>\n",
       "    <tr>\n",
       "      <th>0</th>\n",
       "      <td>0.0</td>\n",
       "      <td>0.0</td>\n",
       "      <td>0.0</td>\n",
       "      <td>0.0</td>\n",
       "      <td>0.0</td>\n",
       "      <td>0.0</td>\n",
       "      <td>0.0</td>\n",
       "      <td>0.0</td>\n",
       "      <td>0.0</td>\n",
       "      <td>0.0</td>\n",
       "      <td>...</td>\n",
       "      <td>0.0</td>\n",
       "      <td>0.0</td>\n",
       "      <td>0.0</td>\n",
       "      <td>0.0</td>\n",
       "      <td>0.0</td>\n",
       "      <td>1.249882</td>\n",
       "      <td>0.037181</td>\n",
       "      <td>-0.458597</td>\n",
       "      <td>-0.030168</td>\n",
       "      <td>-0.756880</td>\n",
       "    </tr>\n",
       "    <tr>\n",
       "      <th>1</th>\n",
       "      <td>0.0</td>\n",
       "      <td>0.0</td>\n",
       "      <td>0.0</td>\n",
       "      <td>0.0</td>\n",
       "      <td>0.0</td>\n",
       "      <td>0.0</td>\n",
       "      <td>0.0</td>\n",
       "      <td>0.0</td>\n",
       "      <td>0.0</td>\n",
       "      <td>0.0</td>\n",
       "      <td>...</td>\n",
       "      <td>0.0</td>\n",
       "      <td>0.0</td>\n",
       "      <td>0.0</td>\n",
       "      <td>0.0</td>\n",
       "      <td>0.0</td>\n",
       "      <td>0.214918</td>\n",
       "      <td>-0.480602</td>\n",
       "      <td>-0.458597</td>\n",
       "      <td>-0.027288</td>\n",
       "      <td>-0.756880</td>\n",
       "    </tr>\n",
       "    <tr>\n",
       "      <th>2</th>\n",
       "      <td>0.0</td>\n",
       "      <td>0.0</td>\n",
       "      <td>0.0</td>\n",
       "      <td>0.0</td>\n",
       "      <td>0.0</td>\n",
       "      <td>0.0</td>\n",
       "      <td>0.0</td>\n",
       "      <td>0.0</td>\n",
       "      <td>0.0</td>\n",
       "      <td>0.0</td>\n",
       "      <td>...</td>\n",
       "      <td>0.0</td>\n",
       "      <td>0.0</td>\n",
       "      <td>0.0</td>\n",
       "      <td>0.0</td>\n",
       "      <td>0.0</td>\n",
       "      <td>-0.406061</td>\n",
       "      <td>0.010649</td>\n",
       "      <td>-0.458597</td>\n",
       "      <td>-0.030663</td>\n",
       "      <td>-0.756880</td>\n",
       "    </tr>\n",
       "    <tr>\n",
       "      <th>3</th>\n",
       "      <td>0.0</td>\n",
       "      <td>0.0</td>\n",
       "      <td>0.0</td>\n",
       "      <td>0.0</td>\n",
       "      <td>0.0</td>\n",
       "      <td>0.0</td>\n",
       "      <td>0.0</td>\n",
       "      <td>0.0</td>\n",
       "      <td>0.0</td>\n",
       "      <td>0.0</td>\n",
       "      <td>...</td>\n",
       "      <td>0.0</td>\n",
       "      <td>0.0</td>\n",
       "      <td>0.0</td>\n",
       "      <td>0.0</td>\n",
       "      <td>0.0</td>\n",
       "      <td>0.214918</td>\n",
       "      <td>-0.480602</td>\n",
       "      <td>-0.458597</td>\n",
       "      <td>-0.027089</td>\n",
       "      <td>-0.756880</td>\n",
       "    </tr>\n",
       "    <tr>\n",
       "      <th>4</th>\n",
       "      <td>0.0</td>\n",
       "      <td>0.0</td>\n",
       "      <td>0.0</td>\n",
       "      <td>0.0</td>\n",
       "      <td>0.0</td>\n",
       "      <td>0.0</td>\n",
       "      <td>0.0</td>\n",
       "      <td>0.0</td>\n",
       "      <td>0.0</td>\n",
       "      <td>0.0</td>\n",
       "      <td>...</td>\n",
       "      <td>0.0</td>\n",
       "      <td>0.0</td>\n",
       "      <td>0.0</td>\n",
       "      <td>0.0</td>\n",
       "      <td>0.0</td>\n",
       "      <td>-0.820046</td>\n",
       "      <td>-0.480602</td>\n",
       "      <td>-0.458597</td>\n",
       "      <td>-0.029062</td>\n",
       "      <td>-0.756880</td>\n",
       "    </tr>\n",
       "    <tr>\n",
       "      <th>...</th>\n",
       "      <td>...</td>\n",
       "      <td>...</td>\n",
       "      <td>...</td>\n",
       "      <td>...</td>\n",
       "      <td>...</td>\n",
       "      <td>...</td>\n",
       "      <td>...</td>\n",
       "      <td>...</td>\n",
       "      <td>...</td>\n",
       "      <td>...</td>\n",
       "      <td>...</td>\n",
       "      <td>...</td>\n",
       "      <td>...</td>\n",
       "      <td>...</td>\n",
       "      <td>...</td>\n",
       "      <td>...</td>\n",
       "      <td>...</td>\n",
       "      <td>...</td>\n",
       "      <td>...</td>\n",
       "      <td>...</td>\n",
       "      <td>...</td>\n",
       "    </tr>\n",
       "    <tr>\n",
       "      <th>6995</th>\n",
       "      <td>0.0</td>\n",
       "      <td>0.0</td>\n",
       "      <td>0.0</td>\n",
       "      <td>0.0</td>\n",
       "      <td>0.0</td>\n",
       "      <td>0.0</td>\n",
       "      <td>1.0</td>\n",
       "      <td>0.0</td>\n",
       "      <td>0.0</td>\n",
       "      <td>0.0</td>\n",
       "      <td>...</td>\n",
       "      <td>0.0</td>\n",
       "      <td>0.0</td>\n",
       "      <td>0.0</td>\n",
       "      <td>0.0</td>\n",
       "      <td>0.0</td>\n",
       "      <td>0.214918</td>\n",
       "      <td>-0.214456</td>\n",
       "      <td>-0.458597</td>\n",
       "      <td>-0.028548</td>\n",
       "      <td>-0.756880</td>\n",
       "    </tr>\n",
       "    <tr>\n",
       "      <th>6996</th>\n",
       "      <td>0.0</td>\n",
       "      <td>0.0</td>\n",
       "      <td>0.0</td>\n",
       "      <td>1.0</td>\n",
       "      <td>0.0</td>\n",
       "      <td>0.0</td>\n",
       "      <td>0.0</td>\n",
       "      <td>0.0</td>\n",
       "      <td>0.0</td>\n",
       "      <td>0.0</td>\n",
       "      <td>...</td>\n",
       "      <td>0.0</td>\n",
       "      <td>0.0</td>\n",
       "      <td>0.0</td>\n",
       "      <td>0.0</td>\n",
       "      <td>0.0</td>\n",
       "      <td>0.628903</td>\n",
       "      <td>-0.101282</td>\n",
       "      <td>0.179103</td>\n",
       "      <td>-0.029466</td>\n",
       "      <td>-0.756880</td>\n",
       "    </tr>\n",
       "    <tr>\n",
       "      <th>6997</th>\n",
       "      <td>0.0</td>\n",
       "      <td>0.0</td>\n",
       "      <td>0.0</td>\n",
       "      <td>0.0</td>\n",
       "      <td>0.0</td>\n",
       "      <td>0.0</td>\n",
       "      <td>0.0</td>\n",
       "      <td>0.0</td>\n",
       "      <td>0.0</td>\n",
       "      <td>0.0</td>\n",
       "      <td>...</td>\n",
       "      <td>0.0</td>\n",
       "      <td>0.0</td>\n",
       "      <td>0.0</td>\n",
       "      <td>0.0</td>\n",
       "      <td>0.0</td>\n",
       "      <td>0.214918</td>\n",
       "      <td>-0.156832</td>\n",
       "      <td>-0.458597</td>\n",
       "      <td>-0.025408</td>\n",
       "      <td>1.470057</td>\n",
       "    </tr>\n",
       "    <tr>\n",
       "      <th>6998</th>\n",
       "      <td>0.0</td>\n",
       "      <td>0.0</td>\n",
       "      <td>0.0</td>\n",
       "      <td>0.0</td>\n",
       "      <td>0.0</td>\n",
       "      <td>0.0</td>\n",
       "      <td>0.0</td>\n",
       "      <td>0.0</td>\n",
       "      <td>0.0</td>\n",
       "      <td>0.0</td>\n",
       "      <td>...</td>\n",
       "      <td>0.0</td>\n",
       "      <td>0.0</td>\n",
       "      <td>0.0</td>\n",
       "      <td>0.0</td>\n",
       "      <td>0.0</td>\n",
       "      <td>0.214918</td>\n",
       "      <td>-0.156832</td>\n",
       "      <td>2.729903</td>\n",
       "      <td>-0.030078</td>\n",
       "      <td>1.470057</td>\n",
       "    </tr>\n",
       "    <tr>\n",
       "      <th>6999</th>\n",
       "      <td>0.0</td>\n",
       "      <td>0.0</td>\n",
       "      <td>0.0</td>\n",
       "      <td>0.0</td>\n",
       "      <td>0.0</td>\n",
       "      <td>0.0</td>\n",
       "      <td>0.0</td>\n",
       "      <td>0.0</td>\n",
       "      <td>0.0</td>\n",
       "      <td>0.0</td>\n",
       "      <td>...</td>\n",
       "      <td>0.0</td>\n",
       "      <td>0.0</td>\n",
       "      <td>0.0</td>\n",
       "      <td>0.0</td>\n",
       "      <td>0.0</td>\n",
       "      <td>0.214918</td>\n",
       "      <td>-0.214456</td>\n",
       "      <td>-0.458597</td>\n",
       "      <td>-0.029049</td>\n",
       "      <td>-0.756880</td>\n",
       "    </tr>\n",
       "  </tbody>\n",
       "</table>\n",
       "<p>7000 rows × 597 columns</p>\n",
       "</div>"
      ],
      "text/plain": [
       "      Brand_acura  Brand_alfa romeo  Brand_audi  Brand_bmw  Brand_buick  \\\n",
       "0             0.0               0.0         0.0        0.0          0.0   \n",
       "1             0.0               0.0         0.0        0.0          0.0   \n",
       "2             0.0               0.0         0.0        0.0          0.0   \n",
       "3             0.0               0.0         0.0        0.0          0.0   \n",
       "4             0.0               0.0         0.0        0.0          0.0   \n",
       "...           ...               ...         ...        ...          ...   \n",
       "6995          0.0               0.0         0.0        0.0          0.0   \n",
       "6996          0.0               0.0         0.0        1.0          0.0   \n",
       "6997          0.0               0.0         0.0        0.0          0.0   \n",
       "6998          0.0               0.0         0.0        0.0          0.0   \n",
       "6999          0.0               0.0         0.0        0.0          0.0   \n",
       "\n",
       "      Brand_cadillac  Brand_chevrolet  Brand_chrysler  Brand_citroen  \\\n",
       "0                0.0              0.0             0.0            0.0   \n",
       "1                0.0              0.0             0.0            0.0   \n",
       "2                0.0              0.0             0.0            0.0   \n",
       "3                0.0              0.0             0.0            0.0   \n",
       "4                0.0              0.0             0.0            0.0   \n",
       "...              ...              ...             ...            ...   \n",
       "6995             0.0              1.0             0.0            0.0   \n",
       "6996             0.0              0.0             0.0            0.0   \n",
       "6997             0.0              0.0             0.0            0.0   \n",
       "6998             0.0              0.0             0.0            0.0   \n",
       "6999             0.0              0.0             0.0            0.0   \n",
       "\n",
       "      Brand_daewoo  ...  capacity_5.7  capacity_5.9  capacity_6.2  \\\n",
       "0              0.0  ...           0.0           0.0           0.0   \n",
       "1              0.0  ...           0.0           0.0           0.0   \n",
       "2              0.0  ...           0.0           0.0           0.0   \n",
       "3              0.0  ...           0.0           0.0           0.0   \n",
       "4              0.0  ...           0.0           0.0           0.0   \n",
       "...            ...  ...           ...           ...           ...   \n",
       "6995           0.0  ...           0.0           0.0           0.0   \n",
       "6996           0.0  ...           0.0           0.0           0.0   \n",
       "6997           0.0  ...           0.0           0.0           0.0   \n",
       "6998           0.0  ...           0.0           0.0           0.0   \n",
       "6999           0.0  ...           0.0           0.0           0.0   \n",
       "\n",
       "      capacity_6.3  capacity_6.7  ManufacturingYear      Duty  CylinderCount  \\\n",
       "0              0.0           0.0           1.249882  0.037181      -0.458597   \n",
       "1              0.0           0.0           0.214918 -0.480602      -0.458597   \n",
       "2              0.0           0.0          -0.406061  0.010649      -0.458597   \n",
       "3              0.0           0.0           0.214918 -0.480602      -0.458597   \n",
       "4              0.0           0.0          -0.820046 -0.480602      -0.458597   \n",
       "...            ...           ...                ...       ...            ...   \n",
       "6995           0.0           0.0           0.214918 -0.214456      -0.458597   \n",
       "6996           0.0           0.0           0.628903 -0.101282       0.179103   \n",
       "6997           0.0           0.0           0.214918 -0.156832      -0.458597   \n",
       "6998           0.0           0.0           0.214918 -0.156832       2.729903   \n",
       "6999           0.0           0.0           0.214918 -0.214456      -0.458597   \n",
       "\n",
       "      Odometer   airbags  \n",
       "0    -0.030168 -0.756880  \n",
       "1    -0.027288 -0.756880  \n",
       "2    -0.030663 -0.756880  \n",
       "3    -0.027089 -0.756880  \n",
       "4    -0.029062 -0.756880  \n",
       "...        ...       ...  \n",
       "6995 -0.028548 -0.756880  \n",
       "6996 -0.029466 -0.756880  \n",
       "6997 -0.025408  1.470057  \n",
       "6998 -0.030078  1.470057  \n",
       "6999 -0.029049 -0.756880  \n",
       "\n",
       "[7000 rows x 597 columns]"
      ]
     },
     "execution_count": 87,
     "metadata": {},
     "output_type": "execute_result"
    }
   ],
   "source": [
    "# drop unimportant columns\n",
    "X_train = train.drop(columns=['price','ID', 'color','rating'], axis=1)\n",
    "y_train = train['price']\n",
    "X_test = test.drop(columns=['ID', 'color', 'rating'], axis=1)\n",
    "\n",
    "categorical_features = X_test.select_dtypes(include=['object', 'category']).columns.tolist()\n",
    "numerical_features = X_test.select_dtypes(include=['float64', 'int64','int32']).columns.tolist()\n",
    "target = 'price'\n",
    "\n",
    "# Preprocessing\n",
    "column_transformer = ColumnTransformer([\n",
    "    ('encoder', OneHotEncoder(handle_unknown='ignore'), categorical_features),\n",
    "    ('scalar',StandardScaler(), numerical_features)],\n",
    "      remainder='passthrough')\n",
    "X_trans = column_transformer.fit_transform(X_train)\n",
    "X_test_trans = column_transformer.transform(X_test)\n",
    "feature_names = list(column_transformer.named_transformers_['encoder'].get_feature_names_out(input_features=categorical_features)) + numerical_features\n",
    "X_train_df = pd.DataFrame(X_trans.toarray(), columns=feature_names)\n",
    "X_test_df = pd.DataFrame(X_test_trans.toarray(), columns=feature_names)\n",
    "X = X_train_df\n",
    "y = y_train\n",
    "X"
   ]
  },
  {
   "cell_type": "markdown",
   "metadata": {},
   "source": [
    "## Modeling"
   ]
  },
  {
   "cell_type": "markdown",
   "metadata": {},
   "source": [
    "### K Nearest Neighboors"
   ]
  },
  {
   "cell_type": "code",
   "execution_count": 84,
   "metadata": {},
   "outputs": [
    {
     "data": {
      "text/plain": [
       "[<matplotlib.lines.Line2D at 0x1df02a6da50>]"
      ]
     },
     "execution_count": 84,
     "metadata": {},
     "output_type": "execute_result"
    },
    {
     "data": {
      "image/png": "[encoded data removed]",
      "text/plain": [
       "<Figure size 640x480 with 1 Axes>"
      ]
     },
     "metadata": {},
     "output_type": "display_data"
    }
   ],
   "source": [
    "k_scores = []\n",
    "metric = 'neg_mean_absolute_error'\n",
    "for k in range(1, 10):\n",
    "    knn = KNeighborsRegressor(n_neighbors= k)\n",
    "    scores = cross_val_score(knn, X, y, cv=5, scoring = metric)\n",
    "    k_scores.append(scores.mean()*-1)\n",
    "plt.plot(range(1, 10), k_scores)\n"
   ]
  },
  {
   "cell_type": "markdown",
   "metadata": {},
   "source": [
    "The best K was 4"
   ]
  },
  {
   "cell_type": "markdown",
   "metadata": {},
   "source": [
    "### Lasso"
   ]
  },
  {
   "cell_type": "code",
   "execution_count": 89,
   "metadata": {},
   "outputs": [
    {
     "name": "stdout",
     "output_type": "stream",
     "text": [
      "Alpha: 0.001, Score: 7428.004439383903\n",
      "Alpha: 0.01, Score: 7414.32485251742\n",
      "Alpha: 0.1, Score: 7373.233917551324\n",
      "Alpha: 1, Score: 7296.737830804273\n",
      "Alpha: 10, Score: 7453.132212911703\n",
      "Alpha: 100, Score: 8014.833966889464\n",
      "Alpha: 1000, Score: 8684.907573560791\n"
     ]
    }
   ],
   "source": [
    "reg_params = [0.001, 0.01, 0.1, 1, 10, 100, 1000]\n",
    "for reg in reg_params:\n",
    "    lasso = Lasso(alpha=reg, random_state=42)\n",
    "    scores = cross_val_score(lasso, X, y, cv=5, scoring = metric)\n",
    "    print(f\"Alpha: {reg}, Score: {scores.mean()*-1}\")"
   ]
  },
  {
   "cell_type": "markdown",
   "metadata": {},
   "source": [
    "### Ridge"
   ]
  },
  {
   "cell_type": "code",
   "execution_count": 90,
   "metadata": {},
   "outputs": [
    {
     "name": "stdout",
     "output_type": "stream",
     "text": [
      "Alpha: 0.001, Score: 7421.727288028269\n",
      "Alpha: 0.01, Score: 7402.156160901068\n",
      "Alpha: 0.1, Score: 7350.162996070001\n",
      "Alpha: 1, Score: 7290.285989475153\n",
      "Alpha: 10, Score: 7346.965218399062\n",
      "Alpha: 100, Score: 7657.385339298713\n",
      "Alpha: 1000, Score: 8132.057169176437\n"
     ]
    }
   ],
   "source": [
    "for reg in reg_params:\n",
    "    ridge = Ridge(alpha=reg, random_state=42)\n",
    "    scores = cross_val_score(ridge, X, y, cv=5, scoring = metric)\n",
    "    print(f\"Alpha: {reg}, Score: {scores.mean()*-1}\")"
   ]
  },
  {
   "cell_type": "markdown",
   "metadata": {},
   "source": [
    "The best param was 1"
   ]
  },
  {
   "cell_type": "markdown",
   "metadata": {},
   "source": [
    "### Stochastic Gradient Descent"
   ]
  },
  {
   "cell_type": "code",
   "execution_count": 91,
   "metadata": {},
   "outputs": [
    {
     "name": "stdout",
     "output_type": "stream",
     "text": [
      "Ridge SGD: 531219536.6136367\n",
      "Lasso SGD: 511499581.8626529\n"
     ]
    }
   ],
   "source": [
    "ridge_sgd = SGDRegressor(\n",
    "    penalty='l2',  \n",
    "    learning_rate='adaptive',\n",
    "    eta0=0.01,     \n",
    "    max_iter=1000\n",
    ")\n",
    "\n",
    "lasso_sgd = SGDRegressor(\n",
    "    penalty='l1',  \n",
    "    learning_rate='adaptive', \n",
    "    eta0=0.01,    \n",
    "    max_iter=1000\n",
    ")\n",
    "ridge_sgd_scores = cross_val_score(ridge_sgd, X, y, cv=5, scoring = metric)\n",
    "lasso_sgd_scores = cross_val_score(lasso_sgd, X, y, cv=5, scoring = metric)\n",
    "print(f\"Ridge SGD: {ridge_sgd_scores.mean()*-1}\")\n",
    "print(f\"Lasso SGD: {lasso_sgd_scores.mean()*-1}\")"
   ]
  },
  {
   "cell_type": "markdown",
   "metadata": {},
   "source": [
    "Alright, That was big. Discard it :)"
   ]
  },
  {
   "cell_type": "markdown",
   "metadata": {},
   "source": [
    "### Bagging"
   ]
  },
  {
   "cell_type": "code",
   "execution_count": 93,
   "metadata": {},
   "outputs": [
    {
     "name": "stdout",
     "output_type": "stream",
     "text": [
      "Bagging Linear Regression: 217745283681184.6\n",
      "Bagging Ridge: 7296.803430628704\n",
      "Bagging Lasso: 7294.57971352623\n",
      "Bagging SVR: 9117.621283224766\n",
      "Bagging KNN: 6484.155064285715\n"
     ]
    }
   ],
   "source": [
    "# 1. Linear Models\n",
    "bagging_lr = BaggingRegressor(estimator=LinearRegression(), n_estimators=10)\n",
    "bagging_ridge = BaggingRegressor(estimator=Ridge(), n_estimators=10)\n",
    "bagging_lasso = BaggingRegressor(estimator=Lasso(), n_estimators=10)\n",
    "\n",
    "# 3. Support Vector Machine\n",
    "bagging_svr = BaggingRegressor(estimator=SVR(), n_estimators=10)\n",
    "\n",
    "# 4. K-Nearest Neighbors\n",
    "bagging_knn = BaggingRegressor(estimator=KNeighborsRegressor(n_neighbors=4), n_estimators=10)\n",
    "\n",
    "score_bagging_lr = cross_val_score(bagging_lr, X, y, cv=5, scoring = metric)\n",
    "score_bagging_ridge = cross_val_score(bagging_ridge, X, y, cv=5, scoring = metric)\n",
    "score_bagging_lasso = cross_val_score(bagging_lasso, X, y, cv=5, scoring = metric)\n",
    "score_bagging_svr = cross_val_score(bagging_svr, X, y, cv=5, scoring = metric)\n",
    "score_bagging_knn = cross_val_score(bagging_knn, X, y, cv=5, scoring = metric)\n",
    "\n",
    "print(f\"Bagging Linear Regression: {score_bagging_lr.mean()*-1}\")\n",
    "print(f\"Bagging Ridge: {score_bagging_ridge.mean()*-1}\")\n",
    "print(f\"Bagging Lasso: {score_bagging_lasso.mean()*-1}\")\n",
    "print(f\"Bagging SVR: {score_bagging_svr.mean()*-1}\")\n",
    "print(f\"Bagging KNN: {score_bagging_knn.mean()*-1}\")"
   ]
  },
  {
   "cell_type": "markdown",
   "metadata": {},
   "source": [
    "The best Bagging was with KNN"
   ]
  },
  {
   "cell_type": "code",
   "execution_count": 94,
   "metadata": {},
   "outputs": [],
   "source": [
    "scores = {}\n",
    "dt = DecisionTreeRegressor()\n",
    "ridge = Ridge(alpha=1, random_state=42)\n",
    "lasso = Lasso(alpha=1, random_state=42)\n",
    "knn = KNeighborsRegressor(n_neighbors= 4)\n",
    "rf = RandomForestRegressor(n_estimators = 100, random_state = 42)\n",
    "ada_boost = AdaBoostRegressor(n_estimators=100, random_state=42)\n",
    "bagging = BaggingRegressor(estimator=KNeighborsRegressor(n_neighbors=4), n_estimators=10, random_state=42)\n",
    "\n",
    "ridge_score = cross_val_score(ridge, X, y, cv=5, scoring = metric).mean()*-1\n",
    "lasso_score = cross_val_score(lasso, X, y, cv=5, scoring = metric).mean()*-1\n",
    "dt_score = cross_val_score(dt, X, y, cv=5, scoring = metric).mean()*-1\n",
    "knn_score = cross_val_score(knn, X, y, cv=5, scoring = metric).mean()*-1\n",
    "rf_score = cross_val_score(rf, X, y, cv=5, scoring = metric).mean()*-1\n",
    "ada_boost_score = cross_val_score(ada_boost, X, y, cv=5, scoring = metric).mean()*-1\n",
    "bagging_score = cross_val_score(bagging, X, y, cv=5, scoring = metric).mean()*-1\n",
    "\n",
    "scores['Ridge'] = ridge_score\n",
    "scores['Lasso'] = lasso_score\n",
    "scores['DecisionTreeRegressor'] = dt_score\n",
    "scores['KNeighborsRegressor'] = knn_score\n",
    "scores['RandomForestRegressor'] = rf_score\n",
    "scores[\"AdaBoostRegressor\"] = ada_boost_score\n",
    "scores['BaggingRegressor'] = bagging_score\n",
    "scores = pd.DataFrame(scores.items(), columns=['Model', 'MAE'])\n"
   ]
  },
  {
   "cell_type": "code",
   "execution_count": 96,
   "metadata": {},
   "outputs": [
    {
     "data": {
      "text/html": [
       "<div>\n",
       "<style scoped>\n",
       "    .dataframe tbody tr th:only-of-type {\n",
       "        vertical-align: middle;\n",
       "    }\n",
       "\n",
       "    .dataframe tbody tr th {\n",
       "        vertical-align: top;\n",
       "    }\n",
       "\n",
       "    .dataframe thead th {\n",
       "        text-align: right;\n",
       "    }\n",
       "</style>\n",
       "<table border=\"1\" class=\"dataframe\">\n",
       "  <thead>\n",
       "    <tr style=\"text-align: right;\">\n",
       "      <th></th>\n",
       "      <th>Model</th>\n",
       "      <th>MAE</th>\n",
       "    </tr>\n",
       "  </thead>\n",
       "  <tbody>\n",
       "    <tr>\n",
       "      <th>4</th>\n",
       "      <td>RandomForestRegressor</td>\n",
       "      <td>5358.555574</td>\n",
       "    </tr>\n",
       "    <tr>\n",
       "      <th>6</th>\n",
       "      <td>BaggingRegressor</td>\n",
       "      <td>6505.616361</td>\n",
       "    </tr>\n",
       "    <tr>\n",
       "      <th>3</th>\n",
       "      <td>KNeighborsRegressor</td>\n",
       "      <td>6565.296500</td>\n",
       "    </tr>\n",
       "    <tr>\n",
       "      <th>2</th>\n",
       "      <td>DecisionTreeRegressor</td>\n",
       "      <td>6684.280024</td>\n",
       "    </tr>\n",
       "    <tr>\n",
       "      <th>0</th>\n",
       "      <td>Ridge</td>\n",
       "      <td>7290.285989</td>\n",
       "    </tr>\n",
       "    <tr>\n",
       "      <th>1</th>\n",
       "      <td>Lasso</td>\n",
       "      <td>7296.737831</td>\n",
       "    </tr>\n",
       "    <tr>\n",
       "      <th>5</th>\n",
       "      <td>AdaBoostRegressor</td>\n",
       "      <td>8323.269371</td>\n",
       "    </tr>\n",
       "  </tbody>\n",
       "</table>\n",
       "</div>"
      ],
      "text/plain": [
       "                   Model          MAE\n",
       "4  RandomForestRegressor  5358.555574\n",
       "6       BaggingRegressor  6505.616361\n",
       "3    KNeighborsRegressor  6565.296500\n",
       "2  DecisionTreeRegressor  6684.280024\n",
       "0                  Ridge  7290.285989\n",
       "1                  Lasso  7296.737831\n",
       "5      AdaBoostRegressor  8323.269371"
      ]
     },
     "execution_count": 96,
     "metadata": {},
     "output_type": "execute_result"
    }
   ],
   "source": [
    "scores.sort_values(by='MAE')"
   ]
  },
  {
   "cell_type": "markdown",
   "metadata": {},
   "source": [
    "We see that random forest model dominates the other models"
   ]
  },
  {
   "cell_type": "code",
   "execution_count": null,
   "metadata": {},
   "outputs": [
    {
     "name": "stdout",
     "output_type": "stream",
     "text": [
      "Train Score: 2029.029596493764\n",
      "Validation Score: 5232.323019458617\n"
     ]
    }
   ],
   "source": [
    "random_forest = RandomForestRegressor(n_estimators=100, random_state=42)\n",
    "\n",
    "X_train, X_valid, y_train, y_valid = train_test_split(X, y, test_size=0.2, random_state=42)\n",
    "\n",
    "random_forest.fit(X_train, y_train)\n",
    "train_score = mean_absolute_error(y_train, (random_forest.predict(X_train)))\n",
    "valid_score = mean_absolute_error(y_valid, (random_forest.predict(X_valid)))\n",
    "print(f\"Train Score: {train_score}\")\n",
    "print(f\"Validation Score: {valid_score}\")"
   ]
  },
  {
   "cell_type": "markdown",
   "metadata": {},
   "source": [
    "### What about stacking?"
   ]
  },
  {
   "cell_type": "code",
   "execution_count": 98,
   "metadata": {},
   "outputs": [],
   "source": [
    "X_train, X_valid, y_train, y_valid = train_test_split(X, y, test_size=0.2, random_state=42)"
   ]
  },
  {
   "cell_type": "code",
   "execution_count": 99,
   "metadata": {},
   "outputs": [
    {
     "name": "stdout",
     "output_type": "stream",
     "text": [
      "[LightGBM] [Warning] Found whitespace in feature_names, replace with underlines\n",
      "[LightGBM] [Warning] Found whitespace in feature_names, replace with underlines\n",
      "[LightGBM] [Warning] Found whitespace in feature_names, replace with underlines\n",
      "[LightGBM] [Warning] Found whitespace in feature_names, replace with underlines\n",
      "[LightGBM] [Warning] Found whitespace in feature_names, replace with underlines\n",
      "[LightGBM] [Warning] Found whitespace in feature_names, replace with underlines\n",
      "Train Score: 2049.527843404673\n",
      "Validation Score: 5026.25433201769\n"
     ]
    }
   ],
   "source": [
    "dt = DecisionTreeRegressor(random_state=42)\n",
    "bag = BaggingRegressor(n_estimators=1300, random_state=42)\n",
    "lgb = LGBMRegressor(n_estimators=1500)\n",
    "cb = CatBoostRegressor(iterations=1500, verbose=0)\n",
    "xgb = XGBRegressor(n_estimators=1500, verbosity=0)\n",
    "gb = GradientBoostingRegressor()\n",
    "ada = AdaBoostRegressor()\n",
    "\n",
    "stacking = StackingRegressor([\n",
    "    ('dt', dt),\n",
    "    ('bag', bag),\n",
    "    ('lgb', lgb),\n",
    "    ('cb', cb),\n",
    "    ('xgb', xgb),\n",
    "    ('gb', gb),\n",
    "    ('ada', ada)\n",
    "], final_estimator=LinearRegression())\n",
    "stacking.fit(X_train, y_train)\n",
    "train_score = mean_absolute_error(y_train, (stacking.predict(X_train)))\n",
    "valid_score = mean_absolute_error(y_valid, (stacking.predict(X_valid)))\n",
    "print(f\"Train Score: {train_score}\")\n",
    "print(f\"Validation Score: {valid_score}\")"
   ]
  },
  {
   "cell_type": "markdown",
   "metadata": {},
   "source": [
    "## Conclusion"
   ]
  },
  {
   "cell_type": "code",
   "execution_count": 102,
   "metadata": {},
   "outputs": [
    {
     "data": {
      "text/html": [
       "<div>\n",
       "<style scoped>\n",
       "    .dataframe tbody tr th:only-of-type {\n",
       "        vertical-align: middle;\n",
       "    }\n",
       "\n",
       "    .dataframe tbody tr th {\n",
       "        vertical-align: top;\n",
       "    }\n",
       "\n",
       "    .dataframe thead th {\n",
       "        text-align: right;\n",
       "    }\n",
       "</style>\n",
       "<table border=\"1\" class=\"dataframe\">\n",
       "  <thead>\n",
       "    <tr style=\"text-align: right;\">\n",
       "      <th></th>\n",
       "      <th>index</th>\n",
       "      <th>Model</th>\n",
       "      <th>MAE</th>\n",
       "    </tr>\n",
       "  </thead>\n",
       "  <tbody>\n",
       "    <tr>\n",
       "      <th>0</th>\n",
       "      <td>7</td>\n",
       "      <td>StackingRegressor</td>\n",
       "      <td>5026.254332</td>\n",
       "    </tr>\n",
       "    <tr>\n",
       "      <th>1</th>\n",
       "      <td>8</td>\n",
       "      <td>StackingRegressor</td>\n",
       "      <td>5026.254332</td>\n",
       "    </tr>\n",
       "    <tr>\n",
       "      <th>2</th>\n",
       "      <td>4</td>\n",
       "      <td>RandomForestRegressor</td>\n",
       "      <td>5358.555574</td>\n",
       "    </tr>\n",
       "    <tr>\n",
       "      <th>3</th>\n",
       "      <td>6</td>\n",
       "      <td>BaggingRegressor</td>\n",
       "      <td>6505.616361</td>\n",
       "    </tr>\n",
       "    <tr>\n",
       "      <th>4</th>\n",
       "      <td>3</td>\n",
       "      <td>KNeighborsRegressor</td>\n",
       "      <td>6565.296500</td>\n",
       "    </tr>\n",
       "    <tr>\n",
       "      <th>5</th>\n",
       "      <td>2</td>\n",
       "      <td>DecisionTreeRegressor</td>\n",
       "      <td>6684.280024</td>\n",
       "    </tr>\n",
       "    <tr>\n",
       "      <th>6</th>\n",
       "      <td>0</td>\n",
       "      <td>Ridge</td>\n",
       "      <td>7290.285989</td>\n",
       "    </tr>\n",
       "    <tr>\n",
       "      <th>7</th>\n",
       "      <td>1</td>\n",
       "      <td>Lasso</td>\n",
       "      <td>7296.737831</td>\n",
       "    </tr>\n",
       "    <tr>\n",
       "      <th>8</th>\n",
       "      <td>5</td>\n",
       "      <td>AdaBoostRegressor</td>\n",
       "      <td>8323.269371</td>\n",
       "    </tr>\n",
       "  </tbody>\n",
       "</table>\n",
       "</div>"
      ],
      "text/plain": [
       "   index                  Model          MAE\n",
       "0      7      StackingRegressor  5026.254332\n",
       "1      8      StackingRegressor  5026.254332\n",
       "2      4  RandomForestRegressor  5358.555574\n",
       "3      6       BaggingRegressor  6505.616361\n",
       "4      3    KNeighborsRegressor  6565.296500\n",
       "5      2  DecisionTreeRegressor  6684.280024\n",
       "6      0                  Ridge  7290.285989\n",
       "7      1                  Lasso  7296.737831\n",
       "8      5      AdaBoostRegressor  8323.269371"
      ]
     },
     "execution_count": 102,
     "metadata": {},
     "output_type": "execute_result"
    }
   ],
   "source": [
    "scores.loc[len(scores)] = ['StackingRegressor', valid_score]\n",
    "scores = scores.sort_values(by='MAE').reset_index()\n",
    "scores"
   ]
  },
  {
   "cell_type": "code",
   "execution_count": null,
   "metadata": {},
   "outputs": [
    {
     "data": {
      "text/html": [
       "<div>\n",
       "<style scoped>\n",
       "    .dataframe tbody tr th:only-of-type {\n",
       "        vertical-align: middle;\n",
       "    }\n",
       "\n",
       "    .dataframe tbody tr th {\n",
       "        vertical-align: top;\n",
       "    }\n",
       "\n",
       "    .dataframe thead th {\n",
       "        text-align: right;\n",
       "    }\n",
       "</style>\n",
       "<table border=\"1\" class=\"dataframe\">\n",
       "  <thead>\n",
       "    <tr style=\"text-align: right;\">\n",
       "      <th></th>\n",
       "      <th>Model</th>\n",
       "      <th>MAE</th>\n",
       "    </tr>\n",
       "  </thead>\n",
       "  <tbody>\n",
       "    <tr>\n",
       "      <th>1</th>\n",
       "      <td>StackingRegressor</td>\n",
       "      <td>5026.254332</td>\n",
       "    </tr>\n",
       "    <tr>\n",
       "      <th>2</th>\n",
       "      <td>RandomForestRegressor</td>\n",
       "      <td>5358.555574</td>\n",
       "    </tr>\n",
       "    <tr>\n",
       "      <th>3</th>\n",
       "      <td>BaggingRegressor</td>\n",
       "      <td>6505.616361</td>\n",
       "    </tr>\n",
       "    <tr>\n",
       "      <th>4</th>\n",
       "      <td>KNeighborsRegressor</td>\n",
       "      <td>6565.296500</td>\n",
       "    </tr>\n",
       "    <tr>\n",
       "      <th>5</th>\n",
       "      <td>DecisionTreeRegressor</td>\n",
       "      <td>6684.280024</td>\n",
       "    </tr>\n",
       "    <tr>\n",
       "      <th>6</th>\n",
       "      <td>Ridge</td>\n",
       "      <td>7290.285989</td>\n",
       "    </tr>\n",
       "    <tr>\n",
       "      <th>7</th>\n",
       "      <td>Lasso</td>\n",
       "      <td>7296.737831</td>\n",
       "    </tr>\n",
       "    <tr>\n",
       "      <th>8</th>\n",
       "      <td>AdaBoostRegressor</td>\n",
       "      <td>8323.269371</td>\n",
       "    </tr>\n",
       "  </tbody>\n",
       "</table>\n",
       "</div>"
      ],
      "text/plain": [
       "                   Model          MAE\n",
       "1      StackingRegressor  5026.254332\n",
       "2  RandomForestRegressor  5358.555574\n",
       "3       BaggingRegressor  6505.616361\n",
       "4    KNeighborsRegressor  6565.296500\n",
       "5  DecisionTreeRegressor  6684.280024\n",
       "6                  Ridge  7290.285989\n",
       "7                  Lasso  7296.737831\n",
       "8      AdaBoostRegressor  8323.269371"
      ]
     },
     "execution_count": 103,
     "metadata": {},
     "output_type": "execute_result"
    }
   ],
   "source": [
    "scores = scores.drop(columns='index', axis=1)\n",
    "scores = scores.drop([0], axis=0)\n",
    "scores"
   ]
  }
 ],
 "metadata": {
  "kernelspec": {
   "display_name": "pyt",
   "language": "python",
   "name": "python3"
  },
  "language_info": {
   "codemirror_mode": {
    "name": "ipython",
    "version": 3
   },
   "file_extension": ".py",
   "mimetype": "text/x-python",
   "name": "python",
   "nbconvert_exporter": "python",
   "pygments_lexer": "ipython3",
   "version": "3.11.9"
  }
 },
 "nbformat": 4,
 "nbformat_minor": 2
}
