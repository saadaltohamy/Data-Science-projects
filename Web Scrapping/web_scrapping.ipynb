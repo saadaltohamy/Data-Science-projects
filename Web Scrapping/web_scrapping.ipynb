{
 "cells": [
  {
   "cell_type": "code",
   "execution_count": 27,
   "metadata": {},
   "outputs": [],
   "source": [
    "import requests\n",
    "from bs4 import BeautifulSoup\n",
    "import pandas as pd\n",
    "from colorama import  Back, Style, Fore\n"
   ]
  },
  {
   "cell_type": "code",
   "execution_count": 37,
   "metadata": {},
   "outputs": [
    {
     "name": "stdout",
     "output_type": "stream",
     "text": [
      "\u001b[1m\u001b[36mThis is a simple web scraper that scrapes the top 100 movies of all time from the IMDB website\n"
     ]
    }
   ],
   "source": [
    "print(Style.BRIGHT + Fore.CYAN + \"This is a simple web scraper that scrapes the top 100 movies of all time from the IMDB website\")"
   ]
  },
  {
   "cell_type": "markdown",
   "metadata": {},
   "source": [
    "## Trying and testing level"
   ]
  },
  {
   "cell_type": "code",
   "execution_count": 8,
   "metadata": {},
   "outputs": [],
   "source": [
    "recuest = requests.get(\"https://wuzzuf.net/search/jobs/?a=hpb%7Cspbg&q=data%20science&start=0\")\n",
    "content = recuest.content\n",
    "soup = BeautifulSoup(content, \"html.parser\")"
   ]
  },
  {
   "cell_type": "code",
   "execution_count": 50,
   "metadata": {},
   "outputs": [
    {
     "name": "stdout",
     "output_type": "stream",
     "text": [
      "IT/Software Development, Engineering - Telecom/Technology, Computer Science, Algorithms, Information Technology (IT), Python, Software, Software Development, Software Engineering, Programming\n",
      "Accounting/Finance, Administration, Banking, Accounting, Accounting Software, Data Entry, excel, Finance, Financial Management, Microsoft Excel\n",
      "R&D/Science, Sales/Retail, Sales Field, Telesales, Data collector, Food Science\n",
      "Operations/Management, Sales/Retail, Computer Science, Data Management, Computer Engineering, Data, Management, Information Technology (IT)\n",
      "Analyst/Research, Engineering - Telecom/Technology, Analysis, analytical, Communication skills, Computer Science, Data, Data Analysis, Engineering, ETL\n",
      "Operations/Management, Manufacturing/Production, Analyst/Research, Analysis, business, analytical, Data Analysis, Computer Science, Data, excel\n",
      "IT/Software Development, Engineering - Telecom/Technology, Analysis, BI, Business Intelligence, Computer Science, Data Analysis, Data Warehousing, Engineering, Information Technology (IT)\n",
      "IT/Software Development, Engineering - Telecom/Technology, Training/Instructor, Data Science, Computer Science, Computer Engineering, Python, Machine Learning, Deep Learning, Artificial Intelligence (AI)\n",
      "IT/Software Development, Analyst/Research, Engineering - Telecom/Technology, Computer Engineering, Computer Science, Data Mining, Database, Engineering, Ibm, Information Technology (IT)\n",
      "Analyst/Research, Analyst, Data Analysis, excel, Data Science, Analysis\n",
      "Human Resources, IT/Software Development, Training/Instructor, Human Resources (HR), Human Resources, Management, Business Administration, Communication skills, Recruitment, Sourcing\n",
      "IT/Software Development, Computer Science, Consulting, Data, Data Management, Information Technology (IT), Project Management\n",
      "IT/Software Development, Analyst/Research, Engineering - Telecom/Technology, Analysis, analytical, Data, Data Analysis, Data Analyst, Information Technology (IT), Python\n",
      "males_only, Installation/Maintenance/Repair, IT/Software Development, Engineering - Telecom/Technology, Computer Systems, Data Security, Data Archiving, security solutions, Engineering, Veeam, Symantec Backup Exec\n",
      "males_preferred, IT/Software Development, Analyst/Research, Engineering - Telecom/Technology, Analysis, analytical, Analyst, Data, Computer Science, Data Analyst, Data Analysis\n"
     ]
    }
   ],
   "source": [
    "jobs = soup.find_all(\"div\", {\"class\": \"css-1gatmva e1v1l3u10\"})\n",
    "for job in jobs:\n",
    "    job_skills = \", \" .join(job.find_all(\"div\", {\"class\": \"css-y4udm8\"})[0].text.split(\" · \")[2:])\n",
    "    print(job_skills)\n",
    "\n"
   ]
  },
  {
   "cell_type": "code",
   "execution_count": 52,
   "metadata": {},
   "outputs": [
    {
     "data": {
      "text/html": [
       "<div>\n",
       "<style scoped>\n",
       "    .dataframe tbody tr th:only-of-type {\n",
       "        vertical-align: middle;\n",
       "    }\n",
       "\n",
       "    .dataframe tbody tr th {\n",
       "        vertical-align: top;\n",
       "    }\n",
       "\n",
       "    .dataframe thead th {\n",
       "        text-align: right;\n",
       "    }\n",
       "</style>\n",
       "<table border=\"1\" class=\"dataframe\">\n",
       "  <thead>\n",
       "    <tr style=\"text-align: right;\">\n",
       "      <th></th>\n",
       "      <th>Job Name</th>\n",
       "      <th>Job Company</th>\n",
       "      <th>Job City</th>\n",
       "      <th>Job Country</th>\n",
       "      <th>Job Type</th>\n",
       "      <th>Job Level</th>\n",
       "      <th>Job Level Years</th>\n",
       "      <th>Job Skills</th>\n",
       "    </tr>\n",
       "  </thead>\n",
       "  <tbody>\n",
       "    <tr>\n",
       "      <th>0</th>\n",
       "      <td>AI &amp; Data Science Python Developer Intern</td>\n",
       "      <td>Sequel Solutions</td>\n",
       "      <td>Cairo</td>\n",
       "      <td>Egypt</td>\n",
       "      <td>Internship</td>\n",
       "      <td>Student</td>\n",
       "      <td>0 - 1 Yrs of Exp</td>\n",
       "      <td>IT/Software Development, Engineering - Telecom...</td>\n",
       "    </tr>\n",
       "    <tr>\n",
       "      <th>1</th>\n",
       "      <td>Senior Accountant</td>\n",
       "      <td>Data Science</td>\n",
       "      <td>Hadayek October</td>\n",
       "      <td>Egypt</td>\n",
       "      <td>Full Time</td>\n",
       "      <td>Experienced</td>\n",
       "      <td>3 - 5 Yrs of Exp</td>\n",
       "      <td>Accounting/Finance, Administration, Banking, A...</td>\n",
       "    </tr>\n",
       "    <tr>\n",
       "      <th>2</th>\n",
       "      <td>Telesales Representative &amp; Data Collector</td>\n",
       "      <td>Diamond</td>\n",
       "      <td>Haram</td>\n",
       "      <td>Egypt</td>\n",
       "      <td>Full Time</td>\n",
       "      <td>Experienced</td>\n",
       "      <td>3 - 5 Yrs of Exp</td>\n",
       "      <td>R&amp;D/Science, Sales/Retail, Sales Field, Telesa...</td>\n",
       "    </tr>\n",
       "    <tr>\n",
       "      <th>3</th>\n",
       "      <td>Data Management Supervisor</td>\n",
       "      <td>Nahdet Misr Publishing Group</td>\n",
       "      <td>Mohandessin</td>\n",
       "      <td>Egypt</td>\n",
       "      <td>Full Time</td>\n",
       "      <td>Experienced</td>\n",
       "      <td>6 - 8 Yrs of Exp</td>\n",
       "      <td>Operations/Management, Sales/Retail, Computer ...</td>\n",
       "    </tr>\n",
       "    <tr>\n",
       "      <th>4</th>\n",
       "      <td>Data Analyst</td>\n",
       "      <td>Confidential</td>\n",
       "      <td>Mohandessin</td>\n",
       "      <td>Egypt</td>\n",
       "      <td>Full Time</td>\n",
       "      <td>Entry Level</td>\n",
       "      <td>1 - 2 Yrs of Exp</td>\n",
       "      <td>Analyst/Research, Engineering - Telecom/Techno...</td>\n",
       "    </tr>\n",
       "  </tbody>\n",
       "</table>\n",
       "</div>"
      ],
      "text/plain": [
       "                                    Job Name                   Job Company  \\\n",
       "0  AI & Data Science Python Developer Intern              Sequel Solutions   \n",
       "1                          Senior Accountant                  Data Science   \n",
       "2  Telesales Representative & Data Collector                       Diamond   \n",
       "3                 Data Management Supervisor  Nahdet Misr Publishing Group   \n",
       "4                               Data Analyst                  Confidential   \n",
       "\n",
       "          Job City Job Country    Job Type    Job Level   Job Level Years  \\\n",
       "0            Cairo       Egypt  Internship      Student  0 - 1 Yrs of Exp   \n",
       "1  Hadayek October       Egypt   Full Time  Experienced  3 - 5 Yrs of Exp   \n",
       "2            Haram       Egypt   Full Time  Experienced  3 - 5 Yrs of Exp   \n",
       "3      Mohandessin       Egypt   Full Time  Experienced  6 - 8 Yrs of Exp   \n",
       "4      Mohandessin       Egypt   Full Time  Entry Level  1 - 2 Yrs of Exp   \n",
       "\n",
       "                                          Job Skills  \n",
       "0  IT/Software Development, Engineering - Telecom...  \n",
       "1  Accounting/Finance, Administration, Banking, A...  \n",
       "2  R&D/Science, Sales/Retail, Sales Field, Telesa...  \n",
       "3  Operations/Management, Sales/Retail, Computer ...  \n",
       "4  Analyst/Research, Engineering - Telecom/Techno...  "
      ]
     },
     "execution_count": 52,
     "metadata": {},
     "output_type": "execute_result"
    }
   ],
   "source": [
    "df_jobs_test = pd.DataFrame(columns=[\"Job Name\", \"Job Company\", \"Job City\", \"Job Country\", \"Job Type\", \"Job Level\", \"Job Level Years\", \"Job Skills\"])\n",
    "for job in jobs:\n",
    "    job_name = job.find_all(\"h2\", {\"class\": \"css-m604qf\"})[0].text.strip()\n",
    "    job_company = job.find_all(\"a\", {\"class\": \"css-17s97q8\"})[0].text.split(\"-\")[0].strip()\n",
    "    job_city = job.find_all(\"span\", {\"class\": \"css-5wys0k\"})[0].text.split(\",\")[0].strip()\n",
    "    job_country = job.find_all(\"span\", {\"class\": \"css-5wys0k\"})[0].text.split(\",\")[-1].strip()\n",
    "    job_type = job.find_all(\"span\", {\"class\": \"css-1ve4b75 eoyjyou0\"})[0].text.split(\",\")[0].strip()\n",
    "    job_level = job.find_all(\"div\", {\"class\": \"css-1lh32fc\"})[0].next_sibling.text.split(\"·\")[0].strip()\n",
    "    job_level_years = job.find_all(\"div\", {\"class\": \"css-1lh32fc\"})[0].next_sibling.text.split(\"·\")[1].strip()\n",
    "    job_skills = \", \" .join(job.find_all(\"div\", {\"class\": \"css-y4udm8\"})[0].text.split(\" · \")[2:])\n",
    "\n",
    "    df_jobs_test.loc[len(df_jobs_test.index)] = [job_name, job_company, job_city, job_country, job_type, job_level, job_level_years, job_skills]\n",
    "df_jobs_test.head(5)\n"
   ]
  },
  {
   "cell_type": "markdown",
   "metadata": {},
   "source": [
    "## Extracting"
   ]
  },
  {
   "cell_type": "code",
   "execution_count": 42,
   "metadata": {},
   "outputs": [],
   "source": [
    "def get_job_data(search_text):\n",
    "    i = 0\n",
    "    j = 0\n",
    "    df_jobs = pd.DataFrame(columns=[\"Job Name\", \"Job Company\", \"Job City\", \"Job Country\", \"Job Type\", \"Job Level\", \"Job Level Years\", \"Job Skills\", \"Job Date\"])\n",
    "    urlname = search_text.replace(\" \", \"%20\")\n",
    "\n",
    "    while True:\n",
    "        request = requests.get(f\"https://wuzzuf.net/search/jobs/?a=hpb%7Cspbg&q={urlname}&start={i}\")\n",
    "        content = request.content\n",
    "        soup = BeautifulSoup(content, \"html.parser\")\n",
    "        jobs = soup.find_all(\"div\", {\"class\": \"css-1gatmva e1v1l3u10\"})\n",
    "\n",
    "        if len(jobs) == 0:\n",
    "            break    \n",
    "        # collect job data\n",
    "        for job in jobs:\n",
    "            job_name = job.find_all(\"h2\", {\"class\": \"css-m604qf\"})[0].text.strip()\n",
    "            job_company = job.find_all(\"a\", {\"class\": \"css-17s97q8\"})[0].text.split(\"-\")[0].strip()\n",
    "            job_city = job.find_all(\"span\", {\"class\": \"css-5wys0k\"})[0].text.split(\",\")[0].strip()\n",
    "            job_country = job.find_all(\"span\", {\"class\": \"css-5wys0k\"})[0].text.split(\",\")[-1].strip()\n",
    "            job_type = job.find_all(\"span\", {\"class\": \"css-1ve4b75 eoyjyou0\"})[0].text.split(\",\")[0].strip()\n",
    "            job_level = job.find_all(\"div\", {\"class\": \"css-1lh32fc\"})[0].next_sibling.text.split(\"·\")[0].strip()\n",
    "            job_level_years = job.find_all(\"div\", {\"class\": \"css-1lh32fc\"})[0].next_sibling.text.split(\"·\")[1].strip()\n",
    "            job_skills = \", \" .join(job.find_all(\"div\", {\"class\": \"css-y4udm8\"})[0].text.split(\" · \")[2:])\n",
    "            try:\n",
    "                job_date = job.find_all(\"div\", {\"class\": \"css-4c4ojb\"})[0].text.strip()\n",
    "            except:\n",
    "                job_date = job.find_all(\"div\", {\"class\": \"css-do6t5g\"})[0].text.strip()\n",
    "\n",
    "            # insert job into dataframe\n",
    "            df_jobs.loc[len(df_jobs.index)] = [job_name, job_company, job_city, job_country, job_type, job_level, job_level_years, job_skills, job_date]\n",
    "            j += 1\n",
    "\n",
    "        i += 1\n",
    "        if i % 20 == 0:\n",
    "            print(Style.BRIGHT + Fore.CYAN + \"Pages Scraped:\", i)\n",
    "    print(Style.BRIGHT + Fore.GREEN + \"Total Pages Scraped:\", i, \"\\nTotal Jobs Scraped:\", j)\n",
    "    return df_jobs\n"
   ]
  },
  {
   "cell_type": "code",
   "execution_count": 43,
   "metadata": {},
   "outputs": [
    {
     "name": "stdout",
     "output_type": "stream",
     "text": [
      "\u001b[1m\u001b[36mPages Scraped: 20\n",
      "\u001b[1m\u001b[36mPages Scraped: 40\n",
      "\u001b[1m\u001b[36mPages Scraped: 60\n",
      "\u001b[1m\u001b[36mPages Scraped: 80\n",
      "\u001b[1m\u001b[32mTotal Pages Scraped: 84 \n",
      "Total Jobs Scraped: 1248\n"
     ]
    }
   ],
   "source": [
    "search_text = \"data science\"\n",
    "df_jobs = get_job_data(search_text)"
   ]
  },
  {
   "cell_type": "code",
   "execution_count": 44,
   "metadata": {},
   "outputs": [],
   "source": [
    "df_jobs.to_csv(\"jobs.csv\")"
   ]
  }
 ],
 "metadata": {
  "kernelspec": {
   "display_name": "base",
   "language": "python",
   "name": "python3"
  },
  "language_info": {
   "codemirror_mode": {
    "name": "ipython",
    "version": 3
   },
   "file_extension": ".py",
   "mimetype": "text/x-python",
   "name": "python",
   "nbconvert_exporter": "python",
   "pygments_lexer": "ipython3",
   "version": "3.11.9"
  }
 },
 "nbformat": 4,
 "nbformat_minor": 2
}
